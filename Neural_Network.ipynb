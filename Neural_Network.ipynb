{
  "cells": [
    {
      "cell_type": "code",
      "execution_count": 1,
      "metadata": {
        "id": "b54ad0d6"
      },
      "outputs": [],
      "source": [
        "import pandas as pd\n",
        "import matplotlib.pyplot as plt\n",
        "import seaborn as sns\n",
        "from seaborn import load_dataset # this method will help us to #download the Titanic dataset\n",
        "plt.style.use('ggplot') #check for more with plt.style.available"
      ],
      "id": "b54ad0d6"
    },
    {
      "cell_type": "code",
      "execution_count": 2,
      "metadata": {
        "id": "ad9n6W9FpcuS"
      },
      "outputs": [],
      "source": [
        "def plot_confusion_matrix(cm, classes=None, title='Confusion matrix'):\n",
        "    if classes is not None:\n",
        "        sns.heatmap(cm, cmap=\"YlGnBu\", xticklabels=classes, yticklabels=classes, vmin=0., vmax=1., annot=True, annot_kws={'size':50})\n",
        "    else:\n",
        "        sns.heatmap(cm, vmin=0., vmax=1.)\n",
        "    plt.title(title)\n",
        "    plt.ylabel('True label')\n",
        "    plt.xlabel('Predicted label')"
      ],
      "id": "ad9n6W9FpcuS"
    },
    {
      "cell_type": "markdown",
      "metadata": {
        "id": "zIMRuT1DHfFS"
      },
      "source": [
        "Load dataset"
      ],
      "id": "zIMRuT1DHfFS"
    },
    {
      "cell_type": "code",
      "execution_count": 3,
      "metadata": {
        "colab": {
          "base_uri": "https://localhost:8080/",
          "height": 423
        },
        "id": "fb7561fc",
        "outputId": "20ef3e99-2450-4577-fa3a-e35f4e17c366"
      },
      "outputs": [
        {
          "output_type": "execute_result",
          "data": {
            "text/plain": [
              "     Pregnancies  Glucose  BloodPressure  SkinThickness  Insulin   BMI  \\\n",
              "0              6      148             72             35        0  33.6   \n",
              "1              1       85             66             29        0  26.6   \n",
              "2              8      183             64              0        0  23.3   \n",
              "3              1       89             66             23       94  28.1   \n",
              "4              0      137             40             35      168  43.1   \n",
              "..           ...      ...            ...            ...      ...   ...   \n",
              "763           10      101             76             48      180  32.9   \n",
              "764            2      122             70             27        0  36.8   \n",
              "765            5      121             72             23      112  26.2   \n",
              "766            1      126             60              0        0  30.1   \n",
              "767            1       93             70             31        0  30.4   \n",
              "\n",
              "     DiabetesPedigreeFunction  Age  Outcome  \n",
              "0                       0.627   50        1  \n",
              "1                       0.351   31        0  \n",
              "2                       0.672   32        1  \n",
              "3                       0.167   21        0  \n",
              "4                       2.288   33        1  \n",
              "..                        ...  ...      ...  \n",
              "763                     0.171   63        0  \n",
              "764                     0.340   27        0  \n",
              "765                     0.245   30        0  \n",
              "766                     0.349   47        1  \n",
              "767                     0.315   23        0  \n",
              "\n",
              "[768 rows x 9 columns]"
            ],
            "text/html": [
              "\n",
              "  <div id=\"df-e4ae5080-e3e7-4682-8c4f-1a220418ec35\">\n",
              "    <div class=\"colab-df-container\">\n",
              "      <div>\n",
              "<style scoped>\n",
              "    .dataframe tbody tr th:only-of-type {\n",
              "        vertical-align: middle;\n",
              "    }\n",
              "\n",
              "    .dataframe tbody tr th {\n",
              "        vertical-align: top;\n",
              "    }\n",
              "\n",
              "    .dataframe thead th {\n",
              "        text-align: right;\n",
              "    }\n",
              "</style>\n",
              "<table border=\"1\" class=\"dataframe\">\n",
              "  <thead>\n",
              "    <tr style=\"text-align: right;\">\n",
              "      <th></th>\n",
              "      <th>Pregnancies</th>\n",
              "      <th>Glucose</th>\n",
              "      <th>BloodPressure</th>\n",
              "      <th>SkinThickness</th>\n",
              "      <th>Insulin</th>\n",
              "      <th>BMI</th>\n",
              "      <th>DiabetesPedigreeFunction</th>\n",
              "      <th>Age</th>\n",
              "      <th>Outcome</th>\n",
              "    </tr>\n",
              "  </thead>\n",
              "  <tbody>\n",
              "    <tr>\n",
              "      <th>0</th>\n",
              "      <td>6</td>\n",
              "      <td>148</td>\n",
              "      <td>72</td>\n",
              "      <td>35</td>\n",
              "      <td>0</td>\n",
              "      <td>33.6</td>\n",
              "      <td>0.627</td>\n",
              "      <td>50</td>\n",
              "      <td>1</td>\n",
              "    </tr>\n",
              "    <tr>\n",
              "      <th>1</th>\n",
              "      <td>1</td>\n",
              "      <td>85</td>\n",
              "      <td>66</td>\n",
              "      <td>29</td>\n",
              "      <td>0</td>\n",
              "      <td>26.6</td>\n",
              "      <td>0.351</td>\n",
              "      <td>31</td>\n",
              "      <td>0</td>\n",
              "    </tr>\n",
              "    <tr>\n",
              "      <th>2</th>\n",
              "      <td>8</td>\n",
              "      <td>183</td>\n",
              "      <td>64</td>\n",
              "      <td>0</td>\n",
              "      <td>0</td>\n",
              "      <td>23.3</td>\n",
              "      <td>0.672</td>\n",
              "      <td>32</td>\n",
              "      <td>1</td>\n",
              "    </tr>\n",
              "    <tr>\n",
              "      <th>3</th>\n",
              "      <td>1</td>\n",
              "      <td>89</td>\n",
              "      <td>66</td>\n",
              "      <td>23</td>\n",
              "      <td>94</td>\n",
              "      <td>28.1</td>\n",
              "      <td>0.167</td>\n",
              "      <td>21</td>\n",
              "      <td>0</td>\n",
              "    </tr>\n",
              "    <tr>\n",
              "      <th>4</th>\n",
              "      <td>0</td>\n",
              "      <td>137</td>\n",
              "      <td>40</td>\n",
              "      <td>35</td>\n",
              "      <td>168</td>\n",
              "      <td>43.1</td>\n",
              "      <td>2.288</td>\n",
              "      <td>33</td>\n",
              "      <td>1</td>\n",
              "    </tr>\n",
              "    <tr>\n",
              "      <th>...</th>\n",
              "      <td>...</td>\n",
              "      <td>...</td>\n",
              "      <td>...</td>\n",
              "      <td>...</td>\n",
              "      <td>...</td>\n",
              "      <td>...</td>\n",
              "      <td>...</td>\n",
              "      <td>...</td>\n",
              "      <td>...</td>\n",
              "    </tr>\n",
              "    <tr>\n",
              "      <th>763</th>\n",
              "      <td>10</td>\n",
              "      <td>101</td>\n",
              "      <td>76</td>\n",
              "      <td>48</td>\n",
              "      <td>180</td>\n",
              "      <td>32.9</td>\n",
              "      <td>0.171</td>\n",
              "      <td>63</td>\n",
              "      <td>0</td>\n",
              "    </tr>\n",
              "    <tr>\n",
              "      <th>764</th>\n",
              "      <td>2</td>\n",
              "      <td>122</td>\n",
              "      <td>70</td>\n",
              "      <td>27</td>\n",
              "      <td>0</td>\n",
              "      <td>36.8</td>\n",
              "      <td>0.340</td>\n",
              "      <td>27</td>\n",
              "      <td>0</td>\n",
              "    </tr>\n",
              "    <tr>\n",
              "      <th>765</th>\n",
              "      <td>5</td>\n",
              "      <td>121</td>\n",
              "      <td>72</td>\n",
              "      <td>23</td>\n",
              "      <td>112</td>\n",
              "      <td>26.2</td>\n",
              "      <td>0.245</td>\n",
              "      <td>30</td>\n",
              "      <td>0</td>\n",
              "    </tr>\n",
              "    <tr>\n",
              "      <th>766</th>\n",
              "      <td>1</td>\n",
              "      <td>126</td>\n",
              "      <td>60</td>\n",
              "      <td>0</td>\n",
              "      <td>0</td>\n",
              "      <td>30.1</td>\n",
              "      <td>0.349</td>\n",
              "      <td>47</td>\n",
              "      <td>1</td>\n",
              "    </tr>\n",
              "    <tr>\n",
              "      <th>767</th>\n",
              "      <td>1</td>\n",
              "      <td>93</td>\n",
              "      <td>70</td>\n",
              "      <td>31</td>\n",
              "      <td>0</td>\n",
              "      <td>30.4</td>\n",
              "      <td>0.315</td>\n",
              "      <td>23</td>\n",
              "      <td>0</td>\n",
              "    </tr>\n",
              "  </tbody>\n",
              "</table>\n",
              "<p>768 rows × 9 columns</p>\n",
              "</div>\n",
              "      <button class=\"colab-df-convert\" onclick=\"convertToInteractive('df-e4ae5080-e3e7-4682-8c4f-1a220418ec35')\"\n",
              "              title=\"Convert this dataframe to an interactive table.\"\n",
              "              style=\"display:none;\">\n",
              "        \n",
              "  <svg xmlns=\"http://www.w3.org/2000/svg\" height=\"24px\"viewBox=\"0 0 24 24\"\n",
              "       width=\"24px\">\n",
              "    <path d=\"M0 0h24v24H0V0z\" fill=\"none\"/>\n",
              "    <path d=\"M18.56 5.44l.94 2.06.94-2.06 2.06-.94-2.06-.94-.94-2.06-.94 2.06-2.06.94zm-11 1L8.5 8.5l.94-2.06 2.06-.94-2.06-.94L8.5 2.5l-.94 2.06-2.06.94zm10 10l.94 2.06.94-2.06 2.06-.94-2.06-.94-.94-2.06-.94 2.06-2.06.94z\"/><path d=\"M17.41 7.96l-1.37-1.37c-.4-.4-.92-.59-1.43-.59-.52 0-1.04.2-1.43.59L10.3 9.45l-7.72 7.72c-.78.78-.78 2.05 0 2.83L4 21.41c.39.39.9.59 1.41.59.51 0 1.02-.2 1.41-.59l7.78-7.78 2.81-2.81c.8-.78.8-2.07 0-2.86zM5.41 20L4 18.59l7.72-7.72 1.47 1.35L5.41 20z\"/>\n",
              "  </svg>\n",
              "      </button>\n",
              "      \n",
              "  <style>\n",
              "    .colab-df-container {\n",
              "      display:flex;\n",
              "      flex-wrap:wrap;\n",
              "      gap: 12px;\n",
              "    }\n",
              "\n",
              "    .colab-df-convert {\n",
              "      background-color: #E8F0FE;\n",
              "      border: none;\n",
              "      border-radius: 50%;\n",
              "      cursor: pointer;\n",
              "      display: none;\n",
              "      fill: #1967D2;\n",
              "      height: 32px;\n",
              "      padding: 0 0 0 0;\n",
              "      width: 32px;\n",
              "    }\n",
              "\n",
              "    .colab-df-convert:hover {\n",
              "      background-color: #E2EBFA;\n",
              "      box-shadow: 0px 1px 2px rgba(60, 64, 67, 0.3), 0px 1px 3px 1px rgba(60, 64, 67, 0.15);\n",
              "      fill: #174EA6;\n",
              "    }\n",
              "\n",
              "    [theme=dark] .colab-df-convert {\n",
              "      background-color: #3B4455;\n",
              "      fill: #D2E3FC;\n",
              "    }\n",
              "\n",
              "    [theme=dark] .colab-df-convert:hover {\n",
              "      background-color: #434B5C;\n",
              "      box-shadow: 0px 1px 3px 1px rgba(0, 0, 0, 0.15);\n",
              "      filter: drop-shadow(0px 1px 2px rgba(0, 0, 0, 0.3));\n",
              "      fill: #FFFFFF;\n",
              "    }\n",
              "  </style>\n",
              "\n",
              "      <script>\n",
              "        const buttonEl =\n",
              "          document.querySelector('#df-e4ae5080-e3e7-4682-8c4f-1a220418ec35 button.colab-df-convert');\n",
              "        buttonEl.style.display =\n",
              "          google.colab.kernel.accessAllowed ? 'block' : 'none';\n",
              "\n",
              "        async function convertToInteractive(key) {\n",
              "          const element = document.querySelector('#df-e4ae5080-e3e7-4682-8c4f-1a220418ec35');\n",
              "          const dataTable =\n",
              "            await google.colab.kernel.invokeFunction('convertToInteractive',\n",
              "                                                     [key], {});\n",
              "          if (!dataTable) return;\n",
              "\n",
              "          const docLinkHtml = 'Like what you see? Visit the ' +\n",
              "            '<a target=\"_blank\" href=https://colab.research.google.com/notebooks/data_table.ipynb>data table notebook</a>'\n",
              "            + ' to learn more about interactive tables.';\n",
              "          element.innerHTML = '';\n",
              "          dataTable['output_type'] = 'display_data';\n",
              "          await google.colab.output.renderOutput(dataTable, element);\n",
              "          const docLink = document.createElement('div');\n",
              "          docLink.innerHTML = docLinkHtml;\n",
              "          element.appendChild(docLink);\n",
              "        }\n",
              "      </script>\n",
              "    </div>\n",
              "  </div>\n",
              "  "
            ]
          },
          "metadata": {},
          "execution_count": 3
        }
      ],
      "source": [
        "data = pd.read_csv('diabetes.csv')\n",
        "data"
      ],
      "id": "fb7561fc"
    },
    {
      "cell_type": "code",
      "execution_count": 4,
      "metadata": {
        "colab": {
          "base_uri": "https://localhost:8080/"
        },
        "id": "a01c4570",
        "outputId": "cb8a828b-ff7a-4f21-ee81-e571790b4f35"
      },
      "outputs": [
        {
          "output_type": "stream",
          "name": "stdout",
          "text": [
            "<class 'pandas.core.frame.DataFrame'>\n",
            "RangeIndex: 768 entries, 0 to 767\n",
            "Data columns (total 9 columns):\n",
            " #   Column                    Non-Null Count  Dtype  \n",
            "---  ------                    --------------  -----  \n",
            " 0   Pregnancies               768 non-null    int64  \n",
            " 1   Glucose                   768 non-null    int64  \n",
            " 2   BloodPressure             768 non-null    int64  \n",
            " 3   SkinThickness             768 non-null    int64  \n",
            " 4   Insulin                   768 non-null    int64  \n",
            " 5   BMI                       768 non-null    float64\n",
            " 6   DiabetesPedigreeFunction  768 non-null    float64\n",
            " 7   Age                       768 non-null    int64  \n",
            " 8   Outcome                   768 non-null    int64  \n",
            "dtypes: float64(2), int64(7)\n",
            "memory usage: 54.1 KB\n"
          ]
        }
      ],
      "source": [
        "# view data\n",
        "data.info()"
      ],
      "id": "a01c4570"
    },
    {
      "cell_type": "code",
      "execution_count": 5,
      "metadata": {
        "colab": {
          "base_uri": "https://localhost:8080/",
          "height": 364
        },
        "id": "79bce46f",
        "outputId": "ad6127d1-f0a8-462e-9c71-46fa23b80a7f"
      },
      "outputs": [
        {
          "output_type": "execute_result",
          "data": {
            "text/plain": [
              "       Pregnancies     Glucose  BloodPressure  SkinThickness     Insulin  \\\n",
              "count   768.000000  768.000000     768.000000     768.000000  768.000000   \n",
              "mean      3.845052  120.894531      69.105469      20.536458   79.799479   \n",
              "std       3.369578   31.972618      19.355807      15.952218  115.244002   \n",
              "min       0.000000    0.000000       0.000000       0.000000    0.000000   \n",
              "25%       1.000000   99.000000      62.000000       0.000000    0.000000   \n",
              "50%       3.000000  117.000000      72.000000      23.000000   30.500000   \n",
              "75%       6.000000  140.250000      80.000000      32.000000  127.250000   \n",
              "max      17.000000  199.000000     122.000000      99.000000  846.000000   \n",
              "\n",
              "              BMI  DiabetesPedigreeFunction         Age     Outcome  \n",
              "count  768.000000                768.000000  768.000000  768.000000  \n",
              "mean    31.992578                  0.471876   33.240885    0.348958  \n",
              "std      7.884160                  0.331329   11.760232    0.476951  \n",
              "min      0.000000                  0.078000   21.000000    0.000000  \n",
              "25%     27.300000                  0.243750   24.000000    0.000000  \n",
              "50%     32.000000                  0.372500   29.000000    0.000000  \n",
              "75%     36.600000                  0.626250   41.000000    1.000000  \n",
              "max     67.100000                  2.420000   81.000000    1.000000  "
            ],
            "text/html": [
              "\n",
              "  <div id=\"df-ce85cf86-1c0a-4f2f-99e0-e325f1a7e9fc\">\n",
              "    <div class=\"colab-df-container\">\n",
              "      <div>\n",
              "<style scoped>\n",
              "    .dataframe tbody tr th:only-of-type {\n",
              "        vertical-align: middle;\n",
              "    }\n",
              "\n",
              "    .dataframe tbody tr th {\n",
              "        vertical-align: top;\n",
              "    }\n",
              "\n",
              "    .dataframe thead th {\n",
              "        text-align: right;\n",
              "    }\n",
              "</style>\n",
              "<table border=\"1\" class=\"dataframe\">\n",
              "  <thead>\n",
              "    <tr style=\"text-align: right;\">\n",
              "      <th></th>\n",
              "      <th>Pregnancies</th>\n",
              "      <th>Glucose</th>\n",
              "      <th>BloodPressure</th>\n",
              "      <th>SkinThickness</th>\n",
              "      <th>Insulin</th>\n",
              "      <th>BMI</th>\n",
              "      <th>DiabetesPedigreeFunction</th>\n",
              "      <th>Age</th>\n",
              "      <th>Outcome</th>\n",
              "    </tr>\n",
              "  </thead>\n",
              "  <tbody>\n",
              "    <tr>\n",
              "      <th>count</th>\n",
              "      <td>768.000000</td>\n",
              "      <td>768.000000</td>\n",
              "      <td>768.000000</td>\n",
              "      <td>768.000000</td>\n",
              "      <td>768.000000</td>\n",
              "      <td>768.000000</td>\n",
              "      <td>768.000000</td>\n",
              "      <td>768.000000</td>\n",
              "      <td>768.000000</td>\n",
              "    </tr>\n",
              "    <tr>\n",
              "      <th>mean</th>\n",
              "      <td>3.845052</td>\n",
              "      <td>120.894531</td>\n",
              "      <td>69.105469</td>\n",
              "      <td>20.536458</td>\n",
              "      <td>79.799479</td>\n",
              "      <td>31.992578</td>\n",
              "      <td>0.471876</td>\n",
              "      <td>33.240885</td>\n",
              "      <td>0.348958</td>\n",
              "    </tr>\n",
              "    <tr>\n",
              "      <th>std</th>\n",
              "      <td>3.369578</td>\n",
              "      <td>31.972618</td>\n",
              "      <td>19.355807</td>\n",
              "      <td>15.952218</td>\n",
              "      <td>115.244002</td>\n",
              "      <td>7.884160</td>\n",
              "      <td>0.331329</td>\n",
              "      <td>11.760232</td>\n",
              "      <td>0.476951</td>\n",
              "    </tr>\n",
              "    <tr>\n",
              "      <th>min</th>\n",
              "      <td>0.000000</td>\n",
              "      <td>0.000000</td>\n",
              "      <td>0.000000</td>\n",
              "      <td>0.000000</td>\n",
              "      <td>0.000000</td>\n",
              "      <td>0.000000</td>\n",
              "      <td>0.078000</td>\n",
              "      <td>21.000000</td>\n",
              "      <td>0.000000</td>\n",
              "    </tr>\n",
              "    <tr>\n",
              "      <th>25%</th>\n",
              "      <td>1.000000</td>\n",
              "      <td>99.000000</td>\n",
              "      <td>62.000000</td>\n",
              "      <td>0.000000</td>\n",
              "      <td>0.000000</td>\n",
              "      <td>27.300000</td>\n",
              "      <td>0.243750</td>\n",
              "      <td>24.000000</td>\n",
              "      <td>0.000000</td>\n",
              "    </tr>\n",
              "    <tr>\n",
              "      <th>50%</th>\n",
              "      <td>3.000000</td>\n",
              "      <td>117.000000</td>\n",
              "      <td>72.000000</td>\n",
              "      <td>23.000000</td>\n",
              "      <td>30.500000</td>\n",
              "      <td>32.000000</td>\n",
              "      <td>0.372500</td>\n",
              "      <td>29.000000</td>\n",
              "      <td>0.000000</td>\n",
              "    </tr>\n",
              "    <tr>\n",
              "      <th>75%</th>\n",
              "      <td>6.000000</td>\n",
              "      <td>140.250000</td>\n",
              "      <td>80.000000</td>\n",
              "      <td>32.000000</td>\n",
              "      <td>127.250000</td>\n",
              "      <td>36.600000</td>\n",
              "      <td>0.626250</td>\n",
              "      <td>41.000000</td>\n",
              "      <td>1.000000</td>\n",
              "    </tr>\n",
              "    <tr>\n",
              "      <th>max</th>\n",
              "      <td>17.000000</td>\n",
              "      <td>199.000000</td>\n",
              "      <td>122.000000</td>\n",
              "      <td>99.000000</td>\n",
              "      <td>846.000000</td>\n",
              "      <td>67.100000</td>\n",
              "      <td>2.420000</td>\n",
              "      <td>81.000000</td>\n",
              "      <td>1.000000</td>\n",
              "    </tr>\n",
              "  </tbody>\n",
              "</table>\n",
              "</div>\n",
              "      <button class=\"colab-df-convert\" onclick=\"convertToInteractive('df-ce85cf86-1c0a-4f2f-99e0-e325f1a7e9fc')\"\n",
              "              title=\"Convert this dataframe to an interactive table.\"\n",
              "              style=\"display:none;\">\n",
              "        \n",
              "  <svg xmlns=\"http://www.w3.org/2000/svg\" height=\"24px\"viewBox=\"0 0 24 24\"\n",
              "       width=\"24px\">\n",
              "    <path d=\"M0 0h24v24H0V0z\" fill=\"none\"/>\n",
              "    <path d=\"M18.56 5.44l.94 2.06.94-2.06 2.06-.94-2.06-.94-.94-2.06-.94 2.06-2.06.94zm-11 1L8.5 8.5l.94-2.06 2.06-.94-2.06-.94L8.5 2.5l-.94 2.06-2.06.94zm10 10l.94 2.06.94-2.06 2.06-.94-2.06-.94-.94-2.06-.94 2.06-2.06.94z\"/><path d=\"M17.41 7.96l-1.37-1.37c-.4-.4-.92-.59-1.43-.59-.52 0-1.04.2-1.43.59L10.3 9.45l-7.72 7.72c-.78.78-.78 2.05 0 2.83L4 21.41c.39.39.9.59 1.41.59.51 0 1.02-.2 1.41-.59l7.78-7.78 2.81-2.81c.8-.78.8-2.07 0-2.86zM5.41 20L4 18.59l7.72-7.72 1.47 1.35L5.41 20z\"/>\n",
              "  </svg>\n",
              "      </button>\n",
              "      \n",
              "  <style>\n",
              "    .colab-df-container {\n",
              "      display:flex;\n",
              "      flex-wrap:wrap;\n",
              "      gap: 12px;\n",
              "    }\n",
              "\n",
              "    .colab-df-convert {\n",
              "      background-color: #E8F0FE;\n",
              "      border: none;\n",
              "      border-radius: 50%;\n",
              "      cursor: pointer;\n",
              "      display: none;\n",
              "      fill: #1967D2;\n",
              "      height: 32px;\n",
              "      padding: 0 0 0 0;\n",
              "      width: 32px;\n",
              "    }\n",
              "\n",
              "    .colab-df-convert:hover {\n",
              "      background-color: #E2EBFA;\n",
              "      box-shadow: 0px 1px 2px rgba(60, 64, 67, 0.3), 0px 1px 3px 1px rgba(60, 64, 67, 0.15);\n",
              "      fill: #174EA6;\n",
              "    }\n",
              "\n",
              "    [theme=dark] .colab-df-convert {\n",
              "      background-color: #3B4455;\n",
              "      fill: #D2E3FC;\n",
              "    }\n",
              "\n",
              "    [theme=dark] .colab-df-convert:hover {\n",
              "      background-color: #434B5C;\n",
              "      box-shadow: 0px 1px 3px 1px rgba(0, 0, 0, 0.15);\n",
              "      filter: drop-shadow(0px 1px 2px rgba(0, 0, 0, 0.3));\n",
              "      fill: #FFFFFF;\n",
              "    }\n",
              "  </style>\n",
              "\n",
              "      <script>\n",
              "        const buttonEl =\n",
              "          document.querySelector('#df-ce85cf86-1c0a-4f2f-99e0-e325f1a7e9fc button.colab-df-convert');\n",
              "        buttonEl.style.display =\n",
              "          google.colab.kernel.accessAllowed ? 'block' : 'none';\n",
              "\n",
              "        async function convertToInteractive(key) {\n",
              "          const element = document.querySelector('#df-ce85cf86-1c0a-4f2f-99e0-e325f1a7e9fc');\n",
              "          const dataTable =\n",
              "            await google.colab.kernel.invokeFunction('convertToInteractive',\n",
              "                                                     [key], {});\n",
              "          if (!dataTable) return;\n",
              "\n",
              "          const docLinkHtml = 'Like what you see? Visit the ' +\n",
              "            '<a target=\"_blank\" href=https://colab.research.google.com/notebooks/data_table.ipynb>data table notebook</a>'\n",
              "            + ' to learn more about interactive tables.';\n",
              "          element.innerHTML = '';\n",
              "          dataTable['output_type'] = 'display_data';\n",
              "          await google.colab.output.renderOutput(dataTable, element);\n",
              "          const docLink = document.createElement('div');\n",
              "          docLink.innerHTML = docLinkHtml;\n",
              "          element.appendChild(docLink);\n",
              "        }\n",
              "      </script>\n",
              "    </div>\n",
              "  </div>\n",
              "  "
            ]
          },
          "metadata": {},
          "execution_count": 5
        }
      ],
      "source": [
        "# view stat\n",
        "data.describe(include='all')"
      ],
      "id": "79bce46f"
    },
    {
      "cell_type": "code",
      "execution_count": 6,
      "metadata": {
        "colab": {
          "base_uri": "https://localhost:8080/",
          "height": 566
        },
        "id": "bb60a2fe",
        "outputId": "12fb5dd7-c5be-49df-fead-e1b999fe85df"
      },
      "outputs": [
        {
          "output_type": "display_data",
          "data": {
            "text/plain": [
              "<Figure size 864x504 with 2 Axes>"
            ],
            "image/png": "[encoded data removed]"
          },
          "metadata": {
            "needs_background": "light"
          }
        }
      ],
      "source": [
        "# find the correlation between two features\n",
        "plt.figure(figsize=(12,7) )\n",
        "corr_plot = sns.heatmap(data.corr(),annot = True,linewidths=1 )\n",
        "plt.title(\"Correlation plot\")\n",
        "plt.show()"
      ],
      "id": "bb60a2fe"
    },
    {
      "cell_type": "code",
      "execution_count": 7,
      "metadata": {
        "colab": {
          "base_uri": "https://localhost:8080/",
          "height": 282
        },
        "id": "698b9c64",
        "outputId": "25acf930-b71d-4b44-efd1-3562fcf38897"
      },
      "outputs": [
        {
          "output_type": "display_data",
          "data": {
            "text/plain": [
              "<Figure size 432x288 with 1 Axes>"
            ],
            "image/png": "[encoded data removed]"
          },
          "metadata": {
            "needs_background": "light"
          }
        }
      ],
      "source": [
        "# Outcome and Glucose\n",
        "sns_grad = sns.barplot(y = data['Glucose'], x = data['Outcome'], data = data)"
      ],
      "id": "698b9c64"
    },
    {
      "cell_type": "code",
      "execution_count": 8,
      "metadata": {
        "colab": {
          "base_uri": "https://localhost:8080/",
          "height": 225
        },
        "id": "90c58974",
        "outputId": "5460e355-2619-41c2-bbfe-1973c38d5b07"
      },
      "outputs": [
        {
          "output_type": "display_data",
          "data": {
            "text/plain": [
              "<Figure size 720x216 with 2 Axes>"
            ],
            "image/png": "[encoded data removed]"
          },
          "metadata": {
            "needs_background": "light"
          }
        }
      ],
      "source": [
        "# cchart for distribution of income\n",
        "fig= plt.figure(figsize=(10,3) )\n",
        "fig.add_subplot(1,2,1)\n",
        "a= data[\"Outcome\"].value_counts(normalize=True).plot.pie()\n",
        "fig.add_subplot(1,2,2)\n",
        "churnchart=sns.countplot(x=data[\"Outcome\"])\n",
        "plt.tight_layout()\n",
        "plt.show()"
      ],
      "id": "90c58974"
    },
    {
      "cell_type": "code",
      "execution_count": 9,
      "metadata": {
        "colab": {
          "base_uri": "https://localhost:8080/",
          "height": 1000
        },
        "id": "a0e697a0",
        "outputId": "50a6b1df-b791-4bb2-9ed7-90d70f55cb62"
      },
      "outputs": [
        {
          "output_type": "display_data",
          "data": {
            "text/plain": [
              "<Figure size 432x288 with 1 Axes>"
            ],
            "image/png": "[encoded data removed]"
          },
          "metadata": {
            "needs_background": "light"
          }
        },
        {
          "output_type": "display_data",
          "data": {
            "text/plain": [
              "<Figure size 432x288 with 1 Axes>"
            ],
            "image/png": "[encoded data removed]"
          },
          "metadata": {
            "needs_background": "light"
          }
        },
        {
          "output_type": "display_data",
          "data": {
            "text/plain": [
              "<Figure size 432x288 with 1 Axes>"
            ],
            "image/png": "[encoded data removed]"
          },
          "metadata": {
            "needs_background": "light"
          }
        },
        {
          "output_type": "display_data",
          "data": {
            "text/plain": [
              "<Figure size 432x288 with 1 Axes>"
            ],
            "image/png": "[encoded data removed]"
          },
          "metadata": {
            "needs_background": "light"
          }
        },
        {
          "output_type": "display_data",
          "data": {
            "text/plain": [
              "<Figure size 432x288 with 1 Axes>"
            ],
            "image/png": "[encoded data removed]"
          },
          "metadata": {
            "needs_background": "light"
          }
        },
        {
          "output_type": "display_data",
          "data": {
            "text/plain": [
              "<Figure size 432x288 with 1 Axes>"
            ],
            "image/png": "[encoded data removed]"
          },
          "metadata": {
            "needs_background": "light"
          }
        },
        {
          "output_type": "display_data",
          "data": {
            "text/plain": [
              "<Figure size 432x288 with 1 Axes>"
            ],
            "image/png": "[encoded data removed]"
          },
          "metadata": {
            "needs_background": "light"
          }
        },
        {
          "output_type": "display_data",
          "data": {
            "text/plain": [
              "<Figure size 432x288 with 1 Axes>"
            ],
            "image/png": "[encoded data removed]"
          },
          "metadata": {
            "needs_background": "light"
          }
        },
        {
          "output_type": "display_data",
          "data": {
            "text/plain": [
              "<Figure size 432x288 with 1 Axes>"
            ],
            "image/png": "[encoded data removed]"
          },
          "metadata": {
            "needs_background": "light"
          }
        }
      ],
      "source": [
        "# Check the outliers\n",
        "numeric = [col for col in data.columns if data[col].dtypes != object]\n",
        "for i in numeric:\n",
        "  sns.boxplot(x = data[i])\n",
        "  plt.show()"
      ],
      "id": "a0e697a0"
    },
    {
      "cell_type": "code",
      "execution_count": 10,
      "metadata": {
        "colab": {
          "base_uri": "https://localhost:8080/"
        },
        "id": "k7Fb7o9bogRc",
        "outputId": "3587c907-c4c8-4480-97c0-83f16247e2f9"
      },
      "outputs": [
        {
          "output_type": "stream",
          "name": "stdout",
          "text": [
            "<class 'pandas.core.frame.DataFrame'>\n",
            "RangeIndex: 768 entries, 0 to 767\n",
            "Data columns (total 9 columns):\n",
            " #   Column                    Non-Null Count  Dtype  \n",
            "---  ------                    --------------  -----  \n",
            " 0   Pregnancies               768 non-null    int64  \n",
            " 1   Glucose                   768 non-null    int64  \n",
            " 2   BloodPressure             768 non-null    int64  \n",
            " 3   SkinThickness             768 non-null    int64  \n",
            " 4   Insulin                   768 non-null    int64  \n",
            " 5   BMI                       768 non-null    float64\n",
            " 6   DiabetesPedigreeFunction  768 non-null    float64\n",
            " 7   Age                       768 non-null    int64  \n",
            " 8   Outcome                   768 non-null    int64  \n",
            "dtypes: float64(2), int64(7)\n",
            "memory usage: 54.1 KB\n"
          ]
        }
      ],
      "source": [
        "data.info()"
      ],
      "id": "k7Fb7o9bogRc"
    },
    {
      "cell_type": "markdown",
      "metadata": {
        "id": "oBubNuS0Htvq"
      },
      "source": [
        "Plot data and outcome result by bar chart"
      ],
      "id": "oBubNuS0Htvq"
    },
    {
      "cell_type": "code",
      "execution_count": 11,
      "metadata": {
        "colab": {
          "base_uri": "https://localhost:8080/",
          "height": 531
        },
        "id": "6914db8d",
        "outputId": "8ea9bcd1-42f0-45bb-b193-650f1c7d03e4"
      },
      "outputs": [
        {
          "output_type": "display_data",
          "data": {
            "text/plain": [
              "<Figure size 1440x720 with 6 Axes>"
            ],
            "image/png": "[encoded data removed]"
          },
          "metadata": {
            "needs_background": "light"
          }
        }
      ],
      "source": [
        "plt.figure(figsize=(20, 10))\n",
        "plt.subplot(321)\n",
        "sns.barplot(y = 'Pregnancies', x = 'Outcome', data = data)\n",
        "plt.subplot(322)\n",
        "sns.barplot(y = 'Glucose', x = 'Outcome', data = data)\n",
        "plt.subplot(323)\n",
        "sns.barplot(y = 'BloodPressure', x = 'Outcome', data = data)\n",
        "plt.subplot(324)\n",
        "sns.barplot(y = 'SkinThickness', x = 'Outcome', data = data)\n",
        "plt.subplot(325)\n",
        "sns.barplot(y = 'Insulin', x = 'Outcome', data = data)\n",
        "plt.subplot(326)\n",
        "sns.barplot(y = 'BMI', x = 'Outcome', data = data);"
      ],
      "id": "6914db8d"
    },
    {
      "cell_type": "markdown",
      "metadata": {
        "id": "aO45MZHUHyxF"
      },
      "source": [
        "We can see that most of the outcome are non diabetic "
      ],
      "id": "aO45MZHUHyxF"
    },
    {
      "cell_type": "code",
      "execution_count": 12,
      "metadata": {
        "id": "22de4eb9"
      },
      "outputs": [],
      "source": [
        "from sklearn.model_selection import train_test_split\n",
        "\n",
        "X = data.drop('Outcome', axis = 1)\n",
        "y = data['Outcome']\n",
        "#Create training and testing variables by splitting data into 70:30 train:test ratio\n",
        "X_train, X_test, y_train, y_test = train_test_split(X, y, test_size = 0.3, random_state = 5)"
      ],
      "id": "22de4eb9"
    },
    {
      "cell_type": "markdown",
      "metadata": {
        "id": "o3cAJxQBH8jV"
      },
      "source": [
        "We split data to training and testing with 70:30\n",
        "\n",
        "So we have 70% training, 30% testing"
      ],
      "id": "o3cAJxQBH8jV"
    },
    {
      "cell_type": "code",
      "execution_count": 13,
      "metadata": {
        "id": "6FSrom8upPuq"
      },
      "outputs": [],
      "source": [
        "from sklearn.linear_model import LogisticRegression\n",
        "from sklearn.metrics import accuracy_score,classification_report, confusion_matrix, f1_score\n",
        "from sklearn.metrics import roc_auc_score,roc_curve\n",
        "from sklearn.metrics import log_loss\n",
        "from sklearn.model_selection import cross_val_score, cross_val_predict, KFold\n",
        "from sklearn.preprocessing import LabelEncoder\n",
        "from sklearn.model_selection import GridSearchCV"
      ],
      "id": "6FSrom8upPuq"
    },
    {
      "cell_type": "markdown",
      "metadata": {
        "id": "T-qpOwE8IJyA"
      },
      "source": [
        "Logistic Regression base model"
      ],
      "id": "T-qpOwE8IJyA"
    },
    {
      "cell_type": "code",
      "execution_count": 14,
      "metadata": {
        "colab": {
          "base_uri": "https://localhost:8080/"
        },
        "id": "GyBIRplLrksA",
        "outputId": "838e1997-1dbb-4684-c062-6afc914a96d3"
      },
      "outputs": [
        {
          "output_type": "stream",
          "name": "stdout",
          "text": [
            "              precision    recall  f1-score   support\n",
            "\n",
            "           0       0.88      0.68      0.76       160\n",
            "           1       0.52      0.79      0.63        71\n",
            "\n",
            "    accuracy                           0.71       231\n",
            "   macro avg       0.70      0.73      0.69       231\n",
            "weighted avg       0.77      0.71      0.72       231\n",
            "\n"
          ]
        },
        {
          "output_type": "stream",
          "name": "stderr",
          "text": [
            "/usr/local/lib/python3.7/dist-packages/sklearn/linear_model/_logistic.py:818: ConvergenceWarning: lbfgs failed to converge (status=1):\n",
            "STOP: TOTAL NO. of ITERATIONS REACHED LIMIT.\n",
            "\n",
            "Increase the number of iterations (max_iter) or scale the data as shown in:\n",
            "    https://scikit-learn.org/stable/modules/preprocessing.html\n",
            "Please also refer to the documentation for alternative solver options:\n",
            "    https://scikit-learn.org/stable/modules/linear_model.html#logistic-regression\n",
            "  extra_warning_msg=_LOGISTIC_SOLVER_CONVERGENCE_MSG,\n"
          ]
        }
      ],
      "source": [
        "log_reg = LogisticRegression(class_weight='balanced') # balanced the class, as the dataset is imbalanced \n",
        "log_reg.fit(X_train,y_train)\n",
        "pred_logr_base = log_reg.predict(X_test)\n",
        "print(classification_report(y_test,pred_logr_base))"
      ],
      "id": "GyBIRplLrksA"
    },
    {
      "cell_type": "markdown",
      "metadata": {
        "id": "6OF3s_fsIUyQ"
      },
      "source": [
        "Find the best model by grid search"
      ],
      "id": "6OF3s_fsIUyQ"
    },
    {
      "cell_type": "code",
      "execution_count": 15,
      "metadata": {
        "colab": {
          "base_uri": "https://localhost:8080/"
        },
        "id": "gmvwn2UIpYdz",
        "outputId": "ae4e56d4-6f7d-4785-fa6e-9cb6ac9c6457"
      },
      "outputs": [
        {
          "output_type": "stream",
          "name": "stdout",
          "text": [
            "tuned best parameters:  {'C': 0.1, 'class_weight': 'balanced', 'penalty': 'l2'}\n",
            "accuracy : 0.7579612322602977\n"
          ]
        },
        {
          "output_type": "stream",
          "name": "stderr",
          "text": [
            "/usr/local/lib/python3.7/dist-packages/sklearn/linear_model/_logistic.py:818: ConvergenceWarning: lbfgs failed to converge (status=1):\n",
            "STOP: TOTAL NO. of ITERATIONS REACHED LIMIT.\n",
            "\n",
            "Increase the number of iterations (max_iter) or scale the data as shown in:\n",
            "    https://scikit-learn.org/stable/modules/preprocessing.html\n",
            "Please also refer to the documentation for alternative solver options:\n",
            "    https://scikit-learn.org/stable/modules/linear_model.html#logistic-regression\n",
            "  extra_warning_msg=_LOGISTIC_SOLVER_CONVERGENCE_MSG,\n"
          ]
        }
      ],
      "source": [
        "log_reg_2 = LogisticRegression()\n",
        "grid={\"C\":[0.001, 0.01, 0.1, 1, 10, 100, 1000], \"penalty\":[\"l2\"], \"class_weight\":[\"balanced\"]}# l2 ridge\n",
        "log_reg_cv=GridSearchCV(log_reg_2,grid,scoring=\"accuracy\",cv=5,n_jobs=-1, refit=True)\n",
        "log_reg_cv.fit(X_train,y_train)\n",
        "\n",
        "print(\"tuned best parameters: \",log_reg_cv.best_params_)\n",
        "print(\"accuracy :\",log_reg_cv.best_score_)"
      ],
      "id": "gmvwn2UIpYdz"
    },
    {
      "cell_type": "code",
      "execution_count": 16,
      "metadata": {
        "colab": {
          "base_uri": "https://localhost:8080/"
        },
        "id": "imZp8FUBqBDj",
        "outputId": "30ecb26f-f115-4837-d76b-e1884f62a84d"
      },
      "outputs": [
        {
          "output_type": "stream",
          "name": "stdout",
          "text": [
            "              precision    recall  f1-score   support\n",
            "\n",
            "           0       0.89      0.73      0.80       160\n",
            "           1       0.57      0.80      0.67        71\n",
            "\n",
            "    accuracy                           0.75       231\n",
            "   macro avg       0.73      0.77      0.74       231\n",
            "weighted avg       0.79      0.75      0.76       231\n",
            "\n"
          ]
        },
        {
          "output_type": "stream",
          "name": "stderr",
          "text": [
            "/usr/local/lib/python3.7/dist-packages/sklearn/linear_model/_logistic.py:818: ConvergenceWarning: lbfgs failed to converge (status=1):\n",
            "STOP: TOTAL NO. of ITERATIONS REACHED LIMIT.\n",
            "\n",
            "Increase the number of iterations (max_iter) or scale the data as shown in:\n",
            "    https://scikit-learn.org/stable/modules/preprocessing.html\n",
            "Please also refer to the documentation for alternative solver options:\n",
            "    https://scikit-learn.org/stable/modules/linear_model.html#logistic-regression\n",
            "  extra_warning_msg=_LOGISTIC_SOLVER_CONVERGENCE_MSG,\n"
          ]
        }
      ],
      "source": [
        "# use the best parameters\n",
        "best_model_logr = LogisticRegression(C=log_reg_cv.best_params_['C'], penalty=log_reg_cv.best_params_['penalty'],class_weight='balanced')\n",
        "best_model_logr.fit(X_train, y_train)\n",
        "pred_logr = best_model_logr.predict(X_test)\n",
        "print(classification_report(y_test,pred_logr))"
      ],
      "id": "imZp8FUBqBDj"
    },
    {
      "cell_type": "code",
      "execution_count": 17,
      "metadata": {
        "colab": {
          "base_uri": "https://localhost:8080/",
          "height": 299
        },
        "id": "cjS9rvXNqxfd",
        "outputId": "a61af96c-d63a-4c67-a1c9-1f00f5f3357d"
      },
      "outputs": [
        {
          "output_type": "display_data",
          "data": {
            "text/plain": [
              "<Figure size 432x288 with 2 Axes>"
            ],
            "image/png": "[encoded data removed]"
          },
          "metadata": {
            "needs_background": "light"
          }
        }
      ],
      "source": [
        "# Visualizing confusion matrixx\n",
        "\n",
        "cm = confusion_matrix(y_test,pred_logr) \n",
        "cm_norm = cm / cm.sum(axis=1).reshape(-1,1)\n",
        "\n",
        "plot_confusion_matrix(cm_norm, classes = best_model_logr.classes_, title='Confusion matrix')"
      ],
      "id": "cjS9rvXNqxfd"
    },
    {
      "cell_type": "code",
      "execution_count": 18,
      "metadata": {
        "colab": {
          "base_uri": "https://localhost:8080/",
          "height": 299
        },
        "id": "G5Ft6gKvq1wd",
        "outputId": "909ba709-7ef2-4d69-92f5-ebbf7c365bf0"
      },
      "outputs": [
        {
          "output_type": "display_data",
          "data": {
            "text/plain": [
              "<Figure size 432x288 with 1 Axes>"
            ],
            "image/png": "[encoded data removed]"
          },
          "metadata": {
            "needs_background": "light"
          }
        }
      ],
      "source": [
        "# Get roc auc of the model\n",
        "roc_auc = roc_auc_score(y_test, best_model_logr.predict(X_test))\n",
        "fpr, tpr, thresholds = roc_curve(y_test, best_model_logr.predict_proba(X_test)[:,1])\n",
        "plt.figure()\n",
        "plt.plot(fpr, tpr, label='Logistic Regression (area = %0.2f)' % roc_auc)\n",
        "plt.plot([0, 1], [0, 1],'r--')\n",
        "plt.xlim([0.0, 1.0])\n",
        "plt.ylim([0.0, 1.05])\n",
        "plt.xlabel('False Positive')\n",
        "plt.ylabel('True Positive')\n",
        "plt.title('ROC')\n",
        "plt.legend(loc=\"lower right\")\n",
        "plt.savefig('ROC')\n",
        "plt.show()"
      ],
      "id": "G5Ft6gKvq1wd"
    },
    {
      "cell_type": "markdown",
      "metadata": {
        "id": "ArcoO0MIIct7"
      },
      "source": [
        "Set base model for neural network"
      ],
      "id": "ArcoO0MIIct7"
    },
    {
      "cell_type": "code",
      "execution_count": 19,
      "metadata": {
        "colab": {
          "base_uri": "https://localhost:8080/"
        },
        "id": "e9afaa51",
        "outputId": "6dd1a791-22c1-45d0-8cc9-e14581097685"
      },
      "outputs": [
        {
          "output_type": "stream",
          "name": "stdout",
          "text": [
            "Model: \"sequential\"\n",
            "_________________________________________________________________\n",
            " Layer (type)                Output Shape              Param #   \n",
            "=================================================================\n",
            " dense (Dense)               (None, 128)               1152      \n",
            "                                                                 \n",
            " dropout (Dropout)           (None, 128)               0         \n",
            "                                                                 \n",
            " dense_1 (Dense)             (None, 1)                 129       \n",
            "                                                                 \n",
            "=================================================================\n",
            "Total params: 1,281\n",
            "Trainable params: 1,281\n",
            "Non-trainable params: 0\n",
            "_________________________________________________________________\n"
          ]
        }
      ],
      "source": [
        "#MODEL BUILDING\n",
        "\n",
        "import tensorflow as tf\n",
        "from keras.models import Sequential\n",
        "from keras.layers import Dense, Activation, Dropout\n",
        "model_base = Sequential()\n",
        "\n",
        "model_base.add(Dense(128, activation='relu', input_dim=X_train.shape[1]))\n",
        "model_base.add(Dropout(0.1))\n",
        "model_base.add(Dense(1, activation='sigmoid'))\n",
        "model_base.summary()"
      ],
      "id": "e9afaa51"
    },
    {
      "cell_type": "code",
      "execution_count": 20,
      "metadata": {
        "id": "yyIrewCKrB2m"
      },
      "outputs": [],
      "source": [
        "model_base.compile(loss='binary_crossentropy',\n",
        "              optimizer='adam',\n",
        "              metrics=['accuracy'])"
      ],
      "id": "yyIrewCKrB2m"
    },
    {
      "cell_type": "markdown",
      "metadata": {
        "id": "6rwM2xuXIiV4"
      },
      "source": [
        "Use the testing data for validation data"
      ],
      "id": "6rwM2xuXIiV4"
    },
    {
      "cell_type": "code",
      "execution_count": 21,
      "metadata": {
        "colab": {
          "base_uri": "https://localhost:8080/"
        },
        "id": "-q0C2U11rJ1p",
        "outputId": "cac8f21d-7800-43d6-9979-c93f14b0628b"
      },
      "outputs": [
        {
          "output_type": "stream",
          "name": "stdout",
          "text": [
            "Epoch 1/50\n",
            "9/9 [==============================] - 2s 67ms/step - loss: 5.2962 - accuracy: 0.4544 - val_loss: 2.7684 - val_accuracy: 0.6234\n",
            "Epoch 2/50\n",
            "9/9 [==============================] - 0s 16ms/step - loss: 3.5437 - accuracy: 0.5289 - val_loss: 1.9752 - val_accuracy: 0.4675\n",
            "Epoch 3/50\n",
            "9/9 [==============================] - 0s 16ms/step - loss: 3.3772 - accuracy: 0.5065 - val_loss: 1.5337 - val_accuracy: 0.6797\n",
            "Epoch 4/50\n",
            "9/9 [==============================] - 0s 13ms/step - loss: 2.9677 - accuracy: 0.5475 - val_loss: 1.2568 - val_accuracy: 0.6407\n",
            "Epoch 5/50\n",
            "9/9 [==============================] - 0s 17ms/step - loss: 2.8015 - accuracy: 0.5456 - val_loss: 1.2272 - val_accuracy: 0.6494\n",
            "Epoch 6/50\n",
            "9/9 [==============================] - 0s 19ms/step - loss: 2.9318 - accuracy: 0.5493 - val_loss: 1.1783 - val_accuracy: 0.6797\n",
            "Epoch 7/50\n",
            "9/9 [==============================] - 0s 13ms/step - loss: 2.5923 - accuracy: 0.5736 - val_loss: 1.0230 - val_accuracy: 0.6667\n",
            "Epoch 8/50\n",
            "9/9 [==============================] - 0s 11ms/step - loss: 2.3068 - accuracy: 0.5773 - val_loss: 1.0030 - val_accuracy: 0.6970\n",
            "Epoch 9/50\n",
            "9/9 [==============================] - 0s 14ms/step - loss: 2.7840 - accuracy: 0.5717 - val_loss: 1.0220 - val_accuracy: 0.6710\n",
            "Epoch 10/50\n",
            "9/9 [==============================] - 0s 12ms/step - loss: 2.4138 - accuracy: 0.5549 - val_loss: 0.9763 - val_accuracy: 0.6797\n",
            "Epoch 11/50\n",
            "9/9 [==============================] - 0s 14ms/step - loss: 2.5511 - accuracy: 0.5885 - val_loss: 0.9660 - val_accuracy: 0.6667\n",
            "Epoch 12/50\n",
            "9/9 [==============================] - 0s 16ms/step - loss: 2.2022 - accuracy: 0.5940 - val_loss: 0.7160 - val_accuracy: 0.7013\n",
            "Epoch 13/50\n",
            "9/9 [==============================] - 0s 30ms/step - loss: 2.1881 - accuracy: 0.5959 - val_loss: 0.7245 - val_accuracy: 0.6883\n",
            "Epoch 14/50\n",
            "9/9 [==============================] - 0s 20ms/step - loss: 2.4326 - accuracy: 0.5736 - val_loss: 0.7123 - val_accuracy: 0.7013\n",
            "Epoch 15/50\n",
            "9/9 [==============================] - 0s 11ms/step - loss: 2.1385 - accuracy: 0.5978 - val_loss: 1.1066 - val_accuracy: 0.6407\n",
            "Epoch 16/50\n",
            "9/9 [==============================] - 0s 15ms/step - loss: 1.9134 - accuracy: 0.6220 - val_loss: 0.7703 - val_accuracy: 0.7056\n",
            "Epoch 17/50\n",
            "9/9 [==============================] - 0s 14ms/step - loss: 2.0438 - accuracy: 0.6015 - val_loss: 0.7473 - val_accuracy: 0.6840\n",
            "Epoch 18/50\n",
            "9/9 [==============================] - 0s 14ms/step - loss: 1.6966 - accuracy: 0.6294 - val_loss: 0.8457 - val_accuracy: 0.6407\n",
            "Epoch 19/50\n",
            "9/9 [==============================] - 0s 19ms/step - loss: 1.9718 - accuracy: 0.5773 - val_loss: 0.7407 - val_accuracy: 0.6840\n",
            "Epoch 20/50\n",
            "9/9 [==============================] - 0s 23ms/step - loss: 2.0915 - accuracy: 0.5624 - val_loss: 0.8516 - val_accuracy: 0.7100\n",
            "Epoch 21/50\n",
            "9/9 [==============================] - 0s 13ms/step - loss: 1.7597 - accuracy: 0.6071 - val_loss: 1.1113 - val_accuracy: 0.6147\n",
            "Epoch 22/50\n",
            "9/9 [==============================] - 0s 21ms/step - loss: 1.4329 - accuracy: 0.6164 - val_loss: 0.6996 - val_accuracy: 0.6753\n",
            "Epoch 23/50\n",
            "9/9 [==============================] - 0s 16ms/step - loss: 1.5465 - accuracy: 0.6201 - val_loss: 0.6815 - val_accuracy: 0.7100\n",
            "Epoch 24/50\n",
            "9/9 [==============================] - 0s 17ms/step - loss: 1.4663 - accuracy: 0.6294 - val_loss: 0.6396 - val_accuracy: 0.6667\n",
            "Epoch 25/50\n",
            "9/9 [==============================] - 0s 11ms/step - loss: 1.4946 - accuracy: 0.6369 - val_loss: 0.6436 - val_accuracy: 0.7143\n",
            "Epoch 26/50\n",
            "9/9 [==============================] - 0s 24ms/step - loss: 1.4248 - accuracy: 0.6220 - val_loss: 0.6240 - val_accuracy: 0.7013\n",
            "Epoch 27/50\n",
            "9/9 [==============================] - 0s 9ms/step - loss: 1.2932 - accuracy: 0.6480 - val_loss: 0.6084 - val_accuracy: 0.6926\n",
            "Epoch 28/50\n",
            "9/9 [==============================] - 0s 11ms/step - loss: 1.4521 - accuracy: 0.6127 - val_loss: 0.7422 - val_accuracy: 0.6537\n",
            "Epoch 29/50\n",
            "9/9 [==============================] - 0s 17ms/step - loss: 1.5274 - accuracy: 0.6071 - val_loss: 0.6403 - val_accuracy: 0.7100\n",
            "Epoch 30/50\n",
            "9/9 [==============================] - 0s 24ms/step - loss: 1.2909 - accuracy: 0.6294 - val_loss: 0.6076 - val_accuracy: 0.6840\n",
            "Epoch 31/50\n",
            "9/9 [==============================] - 0s 10ms/step - loss: 1.2976 - accuracy: 0.6108 - val_loss: 0.6572 - val_accuracy: 0.7143\n",
            "Epoch 32/50\n",
            "9/9 [==============================] - 0s 16ms/step - loss: 1.3019 - accuracy: 0.6127 - val_loss: 0.7292 - val_accuracy: 0.6840\n",
            "Epoch 33/50\n",
            "9/9 [==============================] - 0s 12ms/step - loss: 1.4242 - accuracy: 0.5978 - val_loss: 0.7060 - val_accuracy: 0.6970\n",
            "Epoch 34/50\n",
            "9/9 [==============================] - 0s 16ms/step - loss: 1.3339 - accuracy: 0.6145 - val_loss: 0.7059 - val_accuracy: 0.7013\n",
            "Epoch 35/50\n",
            "9/9 [==============================] - 0s 16ms/step - loss: 1.0427 - accuracy: 0.6704 - val_loss: 0.7074 - val_accuracy: 0.6797\n",
            "Epoch 36/50\n",
            "9/9 [==============================] - 0s 18ms/step - loss: 1.2081 - accuracy: 0.6127 - val_loss: 0.7721 - val_accuracy: 0.7316\n",
            "Epoch 37/50\n",
            "9/9 [==============================] - 0s 16ms/step - loss: 1.1701 - accuracy: 0.6536 - val_loss: 0.8187 - val_accuracy: 0.6580\n",
            "Epoch 38/50\n",
            "9/9 [==============================] - 0s 22ms/step - loss: 1.1443 - accuracy: 0.6313 - val_loss: 0.6411 - val_accuracy: 0.7013\n",
            "Epoch 39/50\n",
            "9/9 [==============================] - 0s 11ms/step - loss: 1.1648 - accuracy: 0.6406 - val_loss: 0.6516 - val_accuracy: 0.7056\n",
            "Epoch 40/50\n",
            "9/9 [==============================] - 0s 15ms/step - loss: 1.0025 - accuracy: 0.6555 - val_loss: 0.7077 - val_accuracy: 0.6883\n",
            "Epoch 41/50\n",
            "9/9 [==============================] - 0s 11ms/step - loss: 1.1414 - accuracy: 0.6443 - val_loss: 0.6655 - val_accuracy: 0.7056\n",
            "Epoch 42/50\n",
            "9/9 [==============================] - 0s 17ms/step - loss: 0.9953 - accuracy: 0.6294 - val_loss: 0.6442 - val_accuracy: 0.7013\n",
            "Epoch 43/50\n",
            "9/9 [==============================] - 0s 17ms/step - loss: 0.9564 - accuracy: 0.6667 - val_loss: 0.7482 - val_accuracy: 0.6580\n",
            "Epoch 44/50\n",
            "9/9 [==============================] - 0s 11ms/step - loss: 1.0013 - accuracy: 0.6387 - val_loss: 0.6996 - val_accuracy: 0.6797\n",
            "Epoch 45/50\n",
            "9/9 [==============================] - 0s 12ms/step - loss: 1.0164 - accuracy: 0.6201 - val_loss: 0.6320 - val_accuracy: 0.6970\n",
            "Epoch 46/50\n",
            "9/9 [==============================] - 0s 11ms/step - loss: 0.8625 - accuracy: 0.6648 - val_loss: 0.6621 - val_accuracy: 0.6710\n",
            "Epoch 47/50\n",
            "9/9 [==============================] - 0s 12ms/step - loss: 0.9046 - accuracy: 0.6276 - val_loss: 0.6229 - val_accuracy: 0.7013\n",
            "Epoch 48/50\n",
            "9/9 [==============================] - 0s 11ms/step - loss: 0.9687 - accuracy: 0.6406 - val_loss: 0.6887 - val_accuracy: 0.6840\n",
            "Epoch 49/50\n",
            "9/9 [==============================] - 0s 14ms/step - loss: 0.8556 - accuracy: 0.6946 - val_loss: 0.6360 - val_accuracy: 0.6926\n",
            "Epoch 50/50\n",
            "9/9 [==============================] - 0s 17ms/step - loss: 0.9028 - accuracy: 0.6425 - val_loss: 0.6576 - val_accuracy: 0.7229\n"
          ]
        }
      ],
      "source": [
        "history = model_base.fit(X_train, y_train, epochs=50, batch_size=64, validation_data=(X_test,y_test))"
      ],
      "id": "-q0C2U11rJ1p"
    },
    {
      "cell_type": "code",
      "execution_count": 22,
      "metadata": {
        "colab": {
          "base_uri": "https://localhost:8080/"
        },
        "id": "9C1ts2RHvb6S",
        "outputId": "47ebc0ad-3393-4cc2-f979-d573efb0a537"
      },
      "outputs": [
        {
          "output_type": "stream",
          "name": "stdout",
          "text": [
            "8/8 [==============================] - 0s 6ms/step - loss: 0.6576 - accuracy: 0.7229\n"
          ]
        },
        {
          "output_type": "execute_result",
          "data": {
            "text/plain": [
              "[0.6576123833656311, 0.7229437232017517]"
            ]
          },
          "metadata": {},
          "execution_count": 22
        }
      ],
      "source": [
        "model_base.evaluate(X_test, y_test)\n",
        "#print('Test loss: {} Test Acc: {}'.format(test_loss, test_acc))"
      ],
      "id": "9C1ts2RHvb6S"
    },
    {
      "cell_type": "markdown",
      "metadata": {
        "id": "f_e-5k_YInzs"
      },
      "source": [
        "The neural nework normal result. It is similar than logistic regression using grid search"
      ],
      "id": "f_e-5k_YInzs"
    },
    {
      "cell_type": "markdown",
      "metadata": {
        "id": "QbwQrDKDIzjT"
      },
      "source": [
        "Plot the accuracy and loss chart"
      ],
      "id": "QbwQrDKDIzjT"
    },
    {
      "cell_type": "code",
      "execution_count": 23,
      "metadata": {
        "colab": {
          "base_uri": "https://localhost:8080/",
          "height": 632
        },
        "id": "izYFVac4vD_x",
        "outputId": "7ad6f648-5ee4-4d8a-b0d5-b9ac700778bf"
      },
      "outputs": [
        {
          "output_type": "display_data",
          "data": {
            "text/plain": [
              "<Figure size 720x720 with 2 Axes>"
            ],
            "image/png": "[encoded data removed]"
          },
          "metadata": {
            "needs_background": "light"
          }
        }
      ],
      "source": [
        "acc = history.history['accuracy']\n",
        "val_acc = history.history['val_accuracy']\n",
        "loss = history.history['loss']\n",
        "val_loss = history.history['val_loss']\n",
        "\n",
        "plt.figure(figsize=(10, 10))\n",
        "plt.subplot(2, 1, 1)\n",
        "\n",
        "plt.plot(acc, label='Training Accuracy', color='r')\n",
        "plt.plot(val_acc, label='Validation Accuracy', color='b')\n",
        "\n",
        "plt.xticks(fontsize=14)\n",
        "plt.yticks(fontsize=14)\n",
        "plt.legend(loc='lower right', fontsize=13)\n",
        "plt.ylabel('Accuracy', fontsize=16, weight='bold')\n",
        "plt.title('Training & Validation Acc.', fontsize=16, weight='bold')\n",
        "\n",
        "plt.subplot(2, 1, 2)\n",
        "plt.plot(loss, label='Training Loss', color='r')\n",
        "plt.plot(val_loss, label='Validation Loss', color='b')\n",
        "plt.xticks(fontsize=14)\n",
        "plt.yticks(fontsize=14)\n",
        "plt.legend(loc='upper right', fontsize=13)\n",
        "plt.ylabel('Cross Entropy', fontsize=16, weight='bold')\n",
        "plt.title('Training & Validation Loss', fontsize=15, weight='bold')\n",
        "plt.xlabel('Epoch', fontsize=15, weight='bold')\n",
        "plt.show()"
      ],
      "id": "izYFVac4vD_x"
    },
    {
      "cell_type": "code",
      "execution_count": 24,
      "metadata": {
        "id": "Bm_ReKas4D_5"
      },
      "outputs": [],
      "source": [
        "def create_model(lyrs=[8], act='linear', opt='Adam', dr=0.0):\n",
        "    \n",
        "    # set random seed for reproducibility\n",
        "    seed(42)\n",
        "    set_random_seed(42)\n",
        "    \n",
        "    model = Sequential()\n",
        "    \n",
        "    # create first hidden layer\n",
        "    model.add(Dense(lyrs[0], input_dim=X_train.shape[1], activation=act))\n",
        "    \n",
        "    # create additional hidden layers\n",
        "    for i in range(1,len(lyrs)):\n",
        "        model.add(Dense(lyrs[i], activation=act))\n",
        "    \n",
        "    # add dropout, default is none\n",
        "    model.add(Dropout(dr))\n",
        "    \n",
        "    # create output layer\n",
        "    model.add(Dense(1, activation='sigmoid'))  # output layer\n",
        "    \n",
        "    model.compile(loss='binary_crossentropy', optimizer=opt, metrics=['accuracy'])\n",
        "    \n",
        "    return model"
      ],
      "id": "Bm_ReKas4D_5"
    },
    {
      "cell_type": "code",
      "execution_count": 25,
      "metadata": {
        "id": "LUVWdxoH4wMj"
      },
      "outputs": [],
      "source": [
        "from sklearn.preprocessing import StandardScaler\n",
        "from sklearn.model_selection import train_test_split\n",
        "from sklearn.model_selection import GridSearchCV\n",
        "from keras.wrappers.scikit_learn import KerasClassifier\n",
        "from keras.models import Sequential\n",
        "from keras.layers import Dense, Activation, Dropout\n",
        "\n",
        "from numpy.random import seed\n",
        "# from tensorflow import set_random_seed\n",
        "from tensorflow.python.framework.random_seed import set_random_seed"
      ],
      "id": "LUVWdxoH4wMj"
    },
    {
      "cell_type": "code",
      "execution_count": 26,
      "metadata": {
        "colab": {
          "base_uri": "https://localhost:8080/"
        },
        "id": "VWrTNuZa4fJO",
        "outputId": "d3816416-76c3-4cc9-fda8-ffe3688bd0fe"
      },
      "outputs": [
        {
          "output_type": "stream",
          "name": "stdout",
          "text": [
            "Model: \"sequential_1\"\n",
            "_________________________________________________________________\n",
            " Layer (type)                Output Shape              Param #   \n",
            "=================================================================\n",
            " dense_2 (Dense)             (None, 8)                 72        \n",
            "                                                                 \n",
            " dropout_1 (Dropout)         (None, 8)                 0         \n",
            "                                                                 \n",
            " dense_3 (Dense)             (None, 1)                 9         \n",
            "                                                                 \n",
            "=================================================================\n",
            "Total params: 81\n",
            "Trainable params: 81\n",
            "Non-trainable params: 0\n",
            "_________________________________________________________________\n",
            "None\n"
          ]
        }
      ],
      "source": [
        "model = create_model()\n",
        "print(model.summary())"
      ],
      "id": "VWrTNuZa4fJO"
    },
    {
      "cell_type": "code",
      "execution_count": 27,
      "metadata": {
        "id": "U_Z-AsXF4f3P"
      },
      "outputs": [],
      "source": [
        "import numpy as np\n",
        "# train model on full train set, with 80/20 CV split\n",
        "training = model.fit(X_train, y_train, epochs=100, batch_size=32, validation_data=(X_test,y_test), verbose=0)\n"
      ],
      "id": "U_Z-AsXF4f3P"
    },
    {
      "cell_type": "markdown",
      "metadata": {
        "id": "zGcLi65uI4-c"
      },
      "source": [
        "Use grid search to find a best model for neural network\n",
        "\n",
        "We use the base model to find the best batch size and epochs first"
      ],
      "id": "zGcLi65uI4-c"
    },
    {
      "cell_type": "code",
      "execution_count": 28,
      "metadata": {
        "colab": {
          "base_uri": "https://localhost:8080/"
        },
        "id": "3xu1lPFO4oHz",
        "outputId": "47a4e6a7-4cda-4b35-cb60-dad0d625106f"
      },
      "outputs": [
        {
          "output_type": "stream",
          "name": "stderr",
          "text": [
            "/usr/local/lib/python3.7/dist-packages/ipykernel_launcher.py:7: DeprecationWarning: KerasClassifier is deprecated, use Sci-Keras (https://github.com/adriangb/scikeras) instead. See https://www.adriangb.com/scikeras/stable/migration.html for help migrating.\n",
            "  import sys\n"
          ]
        },
        {
          "output_type": "stream",
          "name": "stdout",
          "text": [
            "Fitting 3 folds for each of 15 candidates, totalling 45 fits\n",
            "[CV] END ...........................batch_size=16, epochs=50; total time=   2.3s\n",
            "[CV] END ...........................batch_size=16, epochs=50; total time=   3.3s\n",
            "[CV] END ...........................batch_size=16, epochs=50; total time=   3.3s\n",
            "[CV] END ..........................batch_size=16, epochs=100; total time=   4.1s\n",
            "[CV] END ..........................batch_size=16, epochs=100; total time=   3.9s\n",
            "[CV] END ..........................batch_size=16, epochs=100; total time=   5.9s\n",
            "[CV] END ..........................batch_size=16, epochs=150; total time=   5.3s\n",
            "[CV] END ..........................batch_size=16, epochs=150; total time=   5.9s\n",
            "[CV] END ..........................batch_size=16, epochs=150; total time=   5.9s\n",
            "[CV] END ..........................batch_size=16, epochs=200; total time=  11.0s\n",
            "[CV] END ..........................batch_size=16, epochs=200; total time=   7.5s\n",
            "[CV] END ..........................batch_size=16, epochs=200; total time=  11.0s\n",
            "[CV] END ..........................batch_size=16, epochs=400; total time=  21.3s\n",
            "[CV] END ..........................batch_size=16, epochs=400; total time=  21.4s\n",
            "[CV] END ..........................batch_size=16, epochs=400; total time=  12.9s\n",
            "[CV] END ...........................batch_size=32, epochs=50; total time=   2.0s\n",
            "[CV] END ...........................batch_size=32, epochs=50; total time=   2.1s\n",
            "[CV] END ...........................batch_size=32, epochs=50; total time=   2.0s\n",
            "[CV] END ..........................batch_size=32, epochs=100; total time=   3.3s\n",
            "[CV] END ..........................batch_size=32, epochs=100; total time=   3.3s\n",
            "[CV] END ..........................batch_size=32, epochs=100; total time=   2.5s\n",
            "[CV] END ..........................batch_size=32, epochs=150; total time=   5.9s\n",
            "[CV] END ..........................batch_size=32, epochs=150; total time=   5.9s\n",
            "[CV] END ..........................batch_size=32, epochs=150; total time=   3.3s\n",
            "[CV] END ..........................batch_size=32, epochs=200; total time=   5.9s\n",
            "[CV] END ..........................batch_size=32, epochs=200; total time=   5.9s\n",
            "[CV] END ..........................batch_size=32, epochs=200; total time=   4.1s\n",
            "[CV] END ..........................batch_size=32, epochs=400; total time=   7.4s\n",
            "[CV] END ..........................batch_size=32, epochs=400; total time=  11.0s\n",
            "[CV] END ..........................batch_size=32, epochs=400; total time=  11.4s\n",
            "[CV] END ...........................batch_size=64, epochs=50; total time=   1.4s\n",
            "[CV] END ...........................batch_size=64, epochs=50; total time=   1.2s\n",
            "[CV] END ...........................batch_size=64, epochs=50; total time=   1.4s\n",
            "WARNING:tensorflow:5 out of the last 16 calls to <function Model.make_test_function.<locals>.test_function at 0x7f121ca0bef0> triggered tf.function retracing. Tracing is expensive and the excessive number of tracings could be due to (1) creating @tf.function repeatedly in a loop, (2) passing tensors with different shapes, (3) passing Python objects instead of tensors. For (1), please define your @tf.function outside of the loop. For (2), @tf.function has experimental_relax_shapes=True option that relaxes argument shapes that can avoid unnecessary retracing. For (3), please refer to https://www.tensorflow.org/guide/function#controlling_retracing and https://www.tensorflow.org/api_docs/python/tf/function for  more details.\n",
            "[CV] END ..........................batch_size=64, epochs=100; total time=   1.7s\n",
            "WARNING:tensorflow:5 out of the last 13 calls to <function Model.make_test_function.<locals>.test_function at 0x7f121cf49710> triggered tf.function retracing. Tracing is expensive and the excessive number of tracings could be due to (1) creating @tf.function repeatedly in a loop, (2) passing tensors with different shapes, (3) passing Python objects instead of tensors. For (1), please define your @tf.function outside of the loop. For (2), @tf.function has experimental_relax_shapes=True option that relaxes argument shapes that can avoid unnecessary retracing. For (3), please refer to https://www.tensorflow.org/guide/function#controlling_retracing and https://www.tensorflow.org/api_docs/python/tf/function for  more details.\n",
            "[CV] END ..........................batch_size=64, epochs=100; total time=   2.0s\n",
            "[CV] END ..........................batch_size=64, epochs=100; total time=   2.0s\n",
            "[CV] END ..........................batch_size=64, epochs=150; total time=   2.2s\n",
            "[CV] END ..........................batch_size=64, epochs=150; total time=   3.3s\n",
            "[CV] END ..........................batch_size=64, epochs=150; total time=   2.2s\n",
            "[CV] END ..........................batch_size=64, epochs=200; total time=   3.3s\n",
            "[CV] END ..........................batch_size=64, epochs=200; total time=   3.3s\n",
            "[CV] END ..........................batch_size=64, epochs=200; total time=   2.6s\n",
            "[CV] END ..........................batch_size=64, epochs=400; total time=   4.8s\n",
            "[CV] END ..........................batch_size=64, epochs=400; total time=   5.9s\n",
            "[CV] END ..........................batch_size=64, epochs=400; total time=   4.3s\n"
          ]
        }
      ],
      "source": [
        "#3.2. Grid search\n",
        "#3.2.1. batch size and epochs\n",
        "#We can see from the graph above that we might be training our network for too long. Let's use grid search to find out what the optimal values for batch_size and epochs are.\n",
        "\n",
        "\n",
        "#create model\n",
        "model = KerasClassifier(build_fn=create_model, verbose=0)\n",
        "\n",
        "# define the grid search parameters\n",
        "batch_size = [16, 32, 64]\n",
        "epochs = [50, 100, 150, 200, 400]\n",
        "param_grid = dict(batch_size=batch_size, epochs=epochs)\n",
        "\n",
        "# search the grid\n",
        "grid = GridSearchCV(estimator=model, \n",
        "                    param_grid=param_grid,\n",
        "                    cv=3,\n",
        "                    verbose=2)  # include n_jobs=-1 if you are using CPU\n",
        "\n",
        "grid_result = grid.fit(X_train, y_train)"
      ],
      "id": "3xu1lPFO4oHz"
    },
    {
      "cell_type": "code",
      "execution_count": 29,
      "metadata": {
        "colab": {
          "base_uri": "https://localhost:8080/"
        },
        "id": "OND5yaxt_X8q",
        "outputId": "53f206cd-3167-47bb-f3af-575ac67fc399"
      },
      "outputs": [
        {
          "output_type": "stream",
          "name": "stdout",
          "text": [
            "Best: 0.739292 using {'batch_size': 16, 'epochs': 200}\n",
            "0.674115 (0.066154) with: {'batch_size': 16, 'epochs': 50}\n",
            "0.685289 (0.065522) with: {'batch_size': 16, 'epochs': 100}\n",
            "0.687151 (0.056052) with: {'batch_size': 16, 'epochs': 150}\n",
            "0.739292 (0.040884) with: {'batch_size': 16, 'epochs': 200}\n",
            "0.718808 (0.037982) with: {'batch_size': 16, 'epochs': 400}\n",
            "0.627561 (0.063260) with: {'batch_size': 32, 'epochs': 50}\n",
            "0.718808 (0.073739) with: {'batch_size': 32, 'epochs': 100}\n",
            "0.722533 (0.054801) with: {'batch_size': 32, 'epochs': 150}\n",
            "0.735568 (0.050862) with: {'batch_size': 32, 'epochs': 200}\n",
            "0.689013 (0.034236) with: {'batch_size': 32, 'epochs': 400}\n",
            "0.616387 (0.056667) with: {'batch_size': 64, 'epochs': 50}\n",
            "0.672253 (0.066468) with: {'batch_size': 64, 'epochs': 100}\n",
            "0.716946 (0.069077) with: {'batch_size': 64, 'epochs': 150}\n",
            "0.726257 (0.061368) with: {'batch_size': 64, 'epochs': 200}\n",
            "0.720670 (0.068117) with: {'batch_size': 64, 'epochs': 400}\n"
          ]
        }
      ],
      "source": [
        "# summarize results\n",
        "best_batch_size = grid_result.best_params_['batch_size']\n",
        "best_epochs = grid_result.best_params_['epochs']\n",
        "print(\"Best: %f using %s\" % (grid_result.best_score_, grid_result.best_params_))\n",
        "means = grid_result.cv_results_['mean_test_score']\n",
        "stds = grid_result.cv_results_['std_test_score']\n",
        "params = grid_result.cv_results_['params']\n",
        "for mean, stdev, param in zip(means, stds, params):\n",
        "    print(\"%f (%f) with: %r\" % (mean, stdev, param))"
      ],
      "id": "OND5yaxt_X8q"
    },
    {
      "cell_type": "markdown",
      "metadata": {
        "id": "IgSWBkMs_lm3"
      },
      "source": [
        "3.2.2. Optimization Algorithm"
      ],
      "id": "IgSWBkMs_lm3"
    },
    {
      "cell_type": "code",
      "execution_count": 30,
      "metadata": {
        "colab": {
          "base_uri": "https://localhost:8080/"
        },
        "id": "R4w7Qb20_tJZ",
        "outputId": "9c8042b6-a2d9-4691-828c-34e449299e9e"
      },
      "outputs": [
        {
          "output_type": "stream",
          "name": "stdout",
          "text": [
            "Fitting 5 folds for each of 6 candidates, totalling 30 fits\n"
          ]
        },
        {
          "output_type": "stream",
          "name": "stderr",
          "text": [
            "/usr/local/lib/python3.7/dist-packages/ipykernel_launcher.py:2: DeprecationWarning: KerasClassifier is deprecated, use Sci-Keras (https://github.com/adriangb/scikeras) instead. See https://www.adriangb.com/scikeras/stable/migration.html for help migrating.\n",
            "  \n"
          ]
        },
        {
          "output_type": "stream",
          "name": "stdout",
          "text": [
            "[CV] END ............................................opt=SGD; total time=  10.9s\n",
            "[CV] END ............................................opt=SGD; total time=  10.9s\n",
            "[CV] END ............................................opt=SGD; total time=   7.9s\n",
            "[CV] END ............................................opt=SGD; total time=  11.0s\n",
            "[CV] END ............................................opt=SGD; total time=  10.9s\n",
            "[CV] END ........................................opt=RMSprop; total time=  11.1s\n",
            "[CV] END ........................................opt=RMSprop; total time=  11.1s\n",
            "[CV] END ........................................opt=RMSprop; total time=  11.1s\n",
            "[CV] END ........................................opt=RMSprop; total time=   7.7s\n",
            "[CV] END ........................................opt=RMSprop; total time=   8.2s\n",
            "[CV] END ........................................opt=Adagrad; total time=   7.3s\n",
            "[CV] END ........................................opt=Adagrad; total time=   7.2s\n",
            "[CV] END ........................................opt=Adagrad; total time=   7.3s\n",
            "[CV] END ........................................opt=Adagrad; total time=  10.9s\n",
            "[CV] END ........................................opt=Adagrad; total time=   7.2s\n",
            "[CV] END .......................................opt=Adadelta; total time=  10.9s\n",
            "[CV] END .......................................opt=Adadelta; total time=  10.9s\n",
            "[CV] END .......................................opt=Adadelta; total time=   7.5s\n",
            "[CV] END .......................................opt=Adadelta; total time=  11.0s\n",
            "[CV] END .......................................opt=Adadelta; total time=  11.1s\n",
            "[CV] END ...........................................opt=Adam; total time=   7.5s\n",
            "[CV] END ...........................................opt=Adam; total time=   7.6s\n",
            "[CV] END ...........................................opt=Adam; total time=  11.0s\n",
            "[CV] END ...........................................opt=Adam; total time=  11.5s\n",
            "[CV] END ...........................................opt=Adam; total time=  10.9s\n",
            "[CV] END ..........................................opt=Nadam; total time=  11.2s\n",
            "[CV] END ..........................................opt=Nadam; total time=  11.3s\n",
            "[CV] END ..........................................opt=Nadam; total time=  11.3s\n",
            "[CV] END ..........................................opt=Nadam; total time=   8.8s\n",
            "[CV] END ..........................................opt=Nadam; total time=  11.3s\n"
          ]
        }
      ],
      "source": [
        "#create model\n",
        "model = KerasClassifier(build_fn=create_model, epochs=best_epochs, batch_size=best_batch_size, verbose=0)\n",
        "\n",
        "# define the grid search parameters\n",
        "optimizer = ['SGD', 'RMSprop', 'Adagrad', 'Adadelta', 'Adam', 'Nadam']\n",
        "param_grid = dict(opt=optimizer)\n",
        "\n",
        "# search the grid\n",
        "grid = GridSearchCV(estimator=model, param_grid=param_grid, verbose=2)\n",
        "grid_result = grid.fit(X_train, y_train)"
      ],
      "id": "R4w7Qb20_tJZ"
    },
    {
      "cell_type": "code",
      "execution_count": 31,
      "metadata": {
        "colab": {
          "base_uri": "https://localhost:8080/"
        },
        "id": "ZZf0H3MMAJyw",
        "outputId": "d42d5be3-fc13-437c-be6a-970e7b82c0ed"
      },
      "outputs": [
        {
          "output_type": "stream",
          "name": "stdout",
          "text": [
            "Best: 0.743250 using {'opt': 'Nadam'}\n",
            "0.705936 (0.055838) with: {'opt': 'SGD'}\n",
            "0.711578 (0.067480) with: {'opt': 'RMSprop'}\n",
            "0.560696 (0.049511) with: {'opt': 'Adagrad'}\n",
            "0.389079 (0.049315) with: {'opt': 'Adadelta'}\n",
            "0.739425 (0.041210) with: {'opt': 'Adam'}\n",
            "0.743250 (0.055457) with: {'opt': 'Nadam'}\n"
          ]
        }
      ],
      "source": [
        "# summarize results\n",
        "best_opt = grid_result.best_params_['opt']\n",
        "print(\"Best: %f using %s\" % (grid_result.best_score_, grid_result.best_params_))\n",
        "means = grid_result.cv_results_['mean_test_score']\n",
        "stds = grid_result.cv_results_['std_test_score']\n",
        "params = grid_result.cv_results_['params']\n",
        "for mean, stdev, param in zip(means, stds, params):\n",
        "    print(\"%f (%f) with: %r\" % (mean, stdev, param))"
      ],
      "id": "ZZf0H3MMAJyw"
    },
    {
      "cell_type": "markdown",
      "metadata": {
        "id": "cTepAVRAAP3k"
      },
      "source": [
        "3.2.3. Hidden neurons and activation"
      ],
      "id": "cTepAVRAAP3k"
    },
    {
      "cell_type": "code",
      "execution_count": 32,
      "metadata": {
        "colab": {
          "base_uri": "https://localhost:8080/"
        },
        "id": "q4pnUGzjATQQ",
        "outputId": "a5ddf86b-97f9-4222-a052-1b30fdc02b37"
      },
      "outputs": [
        {
          "output_type": "stream",
          "name": "stdout",
          "text": [
            "Fitting 5 folds for each of 10 candidates, totalling 50 fits\n"
          ]
        },
        {
          "output_type": "stream",
          "name": "stderr",
          "text": [
            "/usr/local/lib/python3.7/dist-packages/ipykernel_launcher.py:5: DeprecationWarning: KerasClassifier is deprecated, use Sci-Keras (https://github.com/adriangb/scikeras) instead. See https://www.adriangb.com/scikeras/stable/migration.html for help migrating.\n",
            "  \"\"\"\n"
          ]
        },
        {
          "output_type": "stream",
          "name": "stdout",
          "text": [
            "[CV] END ................................act=tanh, lyrs=[16]; total time=   8.8s\n",
            "[CV] END ................................act=tanh, lyrs=[16]; total time=   8.4s\n",
            "[CV] END ................................act=tanh, lyrs=[16]; total time=  11.7s\n",
            "[CV] END ................................act=tanh, lyrs=[16]; total time=   8.7s\n",
            "[CV] END ................................act=tanh, lyrs=[16]; total time=  11.3s\n",
            "[CV] END ..............................act=tanh, lyrs=[8, 4]; total time=  11.4s\n",
            "[CV] END ..............................act=tanh, lyrs=[8, 4]; total time=  11.5s\n",
            "[CV] END ..............................act=tanh, lyrs=[8, 4]; total time=   9.0s\n",
            "[CV] END ..............................act=tanh, lyrs=[8, 4]; total time=  11.5s\n",
            "[CV] END ..............................act=tanh, lyrs=[8, 4]; total time=   9.1s\n",
            "[CV] END .............................act=tanh, lyrs=[16, 4]; total time=  11.4s\n",
            "[CV] END .............................act=tanh, lyrs=[16, 4]; total time=   9.6s\n",
            "[CV] END .............................act=tanh, lyrs=[16, 4]; total time=  11.4s\n",
            "[CV] END .............................act=tanh, lyrs=[16, 4]; total time=  11.4s\n",
            "[CV] END .............................act=tanh, lyrs=[16, 4]; total time=   9.1s\n",
            "[CV] END .............................act=tanh, lyrs=[16, 8]; total time=  11.4s\n",
            "[CV] END .............................act=tanh, lyrs=[16, 8]; total time=   9.4s\n",
            "[CV] END .............................act=tanh, lyrs=[16, 8]; total time=  11.5s\n",
            "[CV] END .............................act=tanh, lyrs=[16, 8]; total time=   9.2s\n",
            "[CV] END .............................act=tanh, lyrs=[16, 8]; total time=   9.5s\n",
            "[CV] END ..........................act=tanh, lyrs=[16, 8, 4]; total time=   9.7s\n",
            "[CV] END ..........................act=tanh, lyrs=[16, 8, 4]; total time=   9.7s\n",
            "[CV] END ..........................act=tanh, lyrs=[16, 8, 4]; total time=  11.6s\n",
            "[CV] END ..........................act=tanh, lyrs=[16, 8, 4]; total time=   9.7s\n",
            "[CV] END ..........................act=tanh, lyrs=[16, 8, 4]; total time=  11.6s\n",
            "[CV] END ................................act=relu, lyrs=[16]; total time=   8.7s\n",
            "[CV] END ................................act=relu, lyrs=[16]; total time=  11.3s\n",
            "[CV] END ................................act=relu, lyrs=[16]; total time=   9.2s\n",
            "[CV] END ................................act=relu, lyrs=[16]; total time=   8.4s\n",
            "[CV] END ................................act=relu, lyrs=[16]; total time=  11.3s\n",
            "[CV] END ..............................act=relu, lyrs=[8, 4]; total time=  11.4s\n",
            "[CV] END ..............................act=relu, lyrs=[8, 4]; total time=  11.4s\n",
            "[CV] END ..............................act=relu, lyrs=[8, 4]; total time=  11.4s\n",
            "[CV] END ..............................act=relu, lyrs=[8, 4]; total time=  11.4s\n",
            "[CV] END ..............................act=relu, lyrs=[8, 4]; total time=  11.5s\n",
            "[CV] END .............................act=relu, lyrs=[16, 4]; total time=  11.4s\n",
            "[CV] END .............................act=relu, lyrs=[16, 4]; total time=  11.9s\n",
            "[CV] END .............................act=relu, lyrs=[16, 4]; total time=  11.4s\n",
            "[CV] END .............................act=relu, lyrs=[16, 4]; total time=  11.5s\n",
            "[CV] END .............................act=relu, lyrs=[16, 4]; total time=  11.5s\n",
            "[CV] END .............................act=relu, lyrs=[16, 8]; total time=  11.5s\n",
            "[CV] END .............................act=relu, lyrs=[16, 8]; total time=   9.1s\n",
            "[CV] END .............................act=relu, lyrs=[16, 8]; total time=  11.5s\n",
            "[CV] END .............................act=relu, lyrs=[16, 8]; total time=  11.4s\n",
            "[CV] END .............................act=relu, lyrs=[16, 8]; total time=  11.9s\n",
            "[CV] END ..........................act=relu, lyrs=[16, 8, 4]; total time=  10.7s\n",
            "[CV] END ..........................act=relu, lyrs=[16, 8, 4]; total time=  11.3s\n",
            "[CV] END ..........................act=relu, lyrs=[16, 8, 4]; total time=   9.9s\n",
            "[CV] END ..........................act=relu, lyrs=[16, 8, 4]; total time=   9.9s\n",
            "[CV] END ..........................act=relu, lyrs=[16, 8, 4]; total time=   9.8s\n"
          ]
        }
      ],
      "source": [
        "seed(1)\n",
        "set_random_seed(1)\n",
        "\n",
        "# create model\n",
        "model = KerasClassifier(build_fn=create_model, opt=best_opt, epochs=best_epochs, batch_size=best_batch_size, verbose=0)\n",
        "\n",
        "# define the grid search parameters\n",
        "layers = [[16],[8,4],[16,4],[16,8],[16,8,4]]\n",
        "activation = ['tanh','relu']\n",
        "param_grid = dict(act=activation,lyrs=layers)\n",
        "\n",
        "# search the grid\n",
        "grid = GridSearchCV(estimator=model, param_grid=param_grid, verbose=2)\n",
        "grid_result = grid.fit(X_train, y_train)"
      ],
      "id": "q4pnUGzjATQQ"
    },
    {
      "cell_type": "code",
      "execution_count": 33,
      "metadata": {
        "id": "QG6mvxkmAaTS",
        "colab": {
          "base_uri": "https://localhost:8080/"
        },
        "outputId": "eb300757-22ca-419a-f4c2-6fab3a3f99e6"
      },
      "outputs": [
        {
          "output_type": "stream",
          "name": "stdout",
          "text": [
            "Best: 0.724611 using {'act': 'relu', 'lyrs': [16, 4]}\n",
            "0.618380 (0.039106) with: {'act': 'tanh', 'lyrs': [16]}\n",
            "0.622118 (0.048696) with: {'act': 'tanh', 'lyrs': [8, 4]}\n",
            "0.620215 (0.050111) with: {'act': 'tanh', 'lyrs': [16, 4]}\n",
            "0.679907 (0.078431) with: {'act': 'tanh', 'lyrs': [16, 8]}\n",
            "0.655642 (0.072293) with: {'act': 'tanh', 'lyrs': [16, 8, 4]}\n",
            "0.719142 (0.078015) with: {'act': 'relu', 'lyrs': [16]}\n",
            "0.689114 (0.049576) with: {'act': 'relu', 'lyrs': [8, 4]}\n",
            "0.724611 (0.049939) with: {'act': 'relu', 'lyrs': [16, 4]}\n",
            "0.715403 (0.071835) with: {'act': 'relu', 'lyrs': [16, 8]}\n",
            "0.648079 (0.043212) with: {'act': 'relu', 'lyrs': [16, 8, 4]}\n"
          ]
        }
      ],
      "source": [
        "# summarize results\n",
        "best_lyrs = grid_result.best_params_['lyrs']\n",
        "best_act=grid_result.best_params_['act']\n",
        "print(\"Best: %f using %s\" % (grid_result.best_score_, grid_result.best_params_))\n",
        "means = grid_result.cv_results_['mean_test_score']\n",
        "stds = grid_result.cv_results_['std_test_score']\n",
        "params = grid_result.cv_results_['params']\n",
        "for mean, stdev, param in zip(means, stds, params):\n",
        "    print(\"%f (%f) with: %r\" % (mean, stdev, param))"
      ],
      "id": "QG6mvxkmAaTS"
    },
    {
      "cell_type": "markdown",
      "metadata": {
        "id": "g0AUxbM8AjOq"
      },
      "source": [
        "DROP OUT\n"
      ],
      "id": "g0AUxbM8AjOq"
    },
    {
      "cell_type": "code",
      "execution_count": 34,
      "metadata": {
        "colab": {
          "base_uri": "https://localhost:8080/"
        },
        "id": "bpv12wk4Af7c",
        "outputId": "8c96a15e-ba83-4cf5-cbc6-3f94baafa1f7"
      },
      "outputs": [
        {
          "output_type": "stream",
          "name": "stdout",
          "text": [
            "Fitting 5 folds for each of 5 candidates, totalling 25 fits\n"
          ]
        },
        {
          "output_type": "stream",
          "name": "stderr",
          "text": [
            "/usr/local/lib/python3.7/dist-packages/ipykernel_launcher.py:2: DeprecationWarning: KerasClassifier is deprecated, use Sci-Keras (https://github.com/adriangb/scikeras) instead. See https://www.adriangb.com/scikeras/stable/migration.html for help migrating.\n",
            "  \n"
          ]
        },
        {
          "output_type": "stream",
          "name": "stdout",
          "text": [
            "[CV] END .............................................dr=0.1; total time=   1.5s\n",
            "[CV] END .............................................dr=0.1; total time=   1.8s\n",
            "[CV] END .............................................dr=0.1; total time=   1.4s\n",
            "[CV] END .............................................dr=0.1; total time=   1.3s\n",
            "[CV] END .............................................dr=0.1; total time=   1.3s\n",
            "[CV] END .............................................dr=0.2; total time=   1.3s\n",
            "[CV] END .............................................dr=0.2; total time=   1.3s\n",
            "[CV] END .............................................dr=0.2; total time=   1.4s\n",
            "[CV] END .............................................dr=0.2; total time=   1.4s\n",
            "[CV] END .............................................dr=0.2; total time=   1.8s\n",
            "[CV] END ............................................dr=0.25; total time=   1.4s\n",
            "[CV] END ............................................dr=0.25; total time=   1.4s\n",
            "[CV] END ............................................dr=0.25; total time=   1.4s\n",
            "[CV] END ............................................dr=0.25; total time=   1.3s\n",
            "[CV] END ............................................dr=0.25; total time=   1.3s\n",
            "[CV] END .............................................dr=0.4; total time=   1.3s\n",
            "[CV] END .............................................dr=0.4; total time=   1.4s\n",
            "[CV] END .............................................dr=0.4; total time=   1.8s\n",
            "[CV] END .............................................dr=0.4; total time=   1.3s\n",
            "[CV] END .............................................dr=0.4; total time=   1.3s\n",
            "[CV] END .............................................dr=0.5; total time=   1.4s\n",
            "[CV] END .............................................dr=0.5; total time=   1.4s\n",
            "[CV] END .............................................dr=0.5; total time=   1.4s\n",
            "[CV] END .............................................dr=0.5; total time=   1.3s\n",
            "[CV] END .............................................dr=0.5; total time=   1.3s\n"
          ]
        }
      ],
      "source": [
        "# create model\n",
        "model = KerasClassifier(build_fn=create_model, lyrs=best_lyrs, opt=best_opt, act=best_act, epochs=best_batch_size, batch_size=best_epochs, verbose=0)\n",
        "\n",
        "# define the grid search parameters\n",
        "drops = [0.1, 0.2, 0.25, 0.4, 0.5]\n",
        "param_grid = dict(dr=drops)\n",
        "grid = GridSearchCV(estimator=model, param_grid=param_grid, verbose=2)\n",
        "grid_result = grid.fit(X_train, y_train)"
      ],
      "id": "bpv12wk4Af7c"
    },
    {
      "cell_type": "code",
      "execution_count": 35,
      "metadata": {
        "colab": {
          "base_uri": "https://localhost:8080/"
        },
        "id": "woVTxMEmAzwC",
        "outputId": "311d4254-35e2-46a3-ef83-1812a9473c3d"
      },
      "outputs": [
        {
          "output_type": "stream",
          "name": "stdout",
          "text": [
            "Best: 0.609034 using {'dr': 0.5}\n",
            "0.588508 (0.071782) with: {'dr': 0.1}\n",
            "0.603427 (0.067448) with: {'dr': 0.2}\n",
            "0.597854 (0.070095) with: {'dr': 0.25}\n",
            "0.592246 (0.064423) with: {'dr': 0.4}\n",
            "0.609034 (0.071756) with: {'dr': 0.5}\n"
          ]
        }
      ],
      "source": [
        "# summarize results\n",
        "best_dr = grid_result.best_params_['dr']\n",
        "print(\"Best: %f using %s\" % (grid_result.best_score_, grid_result.best_params_))\n",
        "means = grid_result.cv_results_['mean_test_score']\n",
        "stds = grid_result.cv_results_['std_test_score']\n",
        "params = grid_result.cv_results_['params']\n",
        "for mean, stdev, param in zip(means, stds, params):\n",
        "    print(\"%f (%f) with: %r\" % (mean, stdev, param))"
      ],
      "id": "woVTxMEmAzwC"
    },
    {
      "cell_type": "markdown",
      "metadata": {
        "id": "3izUDzHGJ28c"
      },
      "source": [
        "Build the final model with best parameter"
      ],
      "id": "3izUDzHGJ28c"
    },
    {
      "cell_type": "code",
      "execution_count": 36,
      "metadata": {
        "id": "XL2anZfaA1cw",
        "colab": {
          "base_uri": "https://localhost:8080/"
        },
        "outputId": "0b5be09a-c4da-43d9-f524-cd42472eb4d4"
      },
      "outputs": [
        {
          "output_type": "stream",
          "name": "stdout",
          "text": [
            "Model: \"sequential_156\"\n",
            "_________________________________________________________________\n",
            " Layer (type)                Output Shape              Param #   \n",
            "=================================================================\n",
            " dense_389 (Dense)           (None, 16)                144       \n",
            "                                                                 \n",
            " dense_390 (Dense)           (None, 4)                 68        \n",
            "                                                                 \n",
            " dropout_156 (Dropout)       (None, 4)                 0         \n",
            "                                                                 \n",
            " dense_391 (Dense)           (None, 1)                 5         \n",
            "                                                                 \n",
            "=================================================================\n",
            "Total params: 217\n",
            "Trainable params: 217\n",
            "Non-trainable params: 0\n",
            "_________________________________________________________________\n",
            "None\n"
          ]
        }
      ],
      "source": [
        "# create final model\n",
        "model = create_model(lyrs=best_lyrs, opt=best_opt, act=best_act, dr=best_dr)\n",
        "\n",
        "print(model.summary())"
      ],
      "id": "XL2anZfaA1cw"
    },
    {
      "cell_type": "code",
      "execution_count": 37,
      "metadata": {
        "id": "0Ow2QPrrA5Pw",
        "colab": {
          "base_uri": "https://localhost:8080/"
        },
        "outputId": "b8d86192-9fb8-4ee7-b80c-b9f6e581de98"
      },
      "outputs": [
        {
          "output_type": "stream",
          "name": "stdout",
          "text": [
            "8/8 [==============================] - 0s 2ms/step - loss: 0.6155 - accuracy: 0.7100\n",
            "\n",
            "accuracy: 71.00%\n"
          ]
        }
      ],
      "source": [
        "# train model on full train set, with 80/20 CV split\n",
        "training = model.fit(X_train, y_train, epochs=best_epochs, batch_size=best_batch_size, \n",
        "                     validation_data=(X_test,y_test), verbose=0)\n",
        "\n",
        "# evaluate the model\n",
        "scores = model.evaluate(X_test, y_test)\n",
        "print(\"\\n%s: %.2f%%\" % (model.metrics_names[1], scores[1]*100))"
      ],
      "id": "0Ow2QPrrA5Pw"
    },
    {
      "cell_type": "markdown",
      "metadata": {
        "id": "zH1iidJzJ792"
      },
      "source": [
        "We got 71.3%, it is not higher than logistic regression\n",
        "\n",
        "Compare all model by bar chart"
      ],
      "id": "zH1iidJzJ792"
    },
    {
      "cell_type": "code",
      "execution_count": 38,
      "metadata": {
        "id": "FABjNC0ItOe6",
        "colab": {
          "base_uri": "https://localhost:8080/"
        },
        "outputId": "af1d105b-c007-4943-b098-86ddc41c4ea5"
      },
      "outputs": [
        {
          "output_type": "stream",
          "name": "stdout",
          "text": [
            "8/8 [==============================] - 0s 2ms/step - loss: 0.6576 - accuracy: 0.7229\n",
            "8/8 [==============================] - 0s 2ms/step - loss: 0.6155 - accuracy: 0.7100\n"
          ]
        }
      ],
      "source": [
        "all_results = {}\n",
        "all_results['logistic'] = accuracy_score(y_test, pred_logr_base)\n",
        "all_results['logistic_CV'] = accuracy_score(y_test, pred_logr)\n",
        "all_results['DL_Base'] = model_base.evaluate(X_test, y_test)[1]\n",
        "all_results['DL_Best'] = model.evaluate(X_test, y_test)[1]"
      ],
      "id": "FABjNC0ItOe6"
    },
    {
      "cell_type": "code",
      "execution_count": 39,
      "metadata": {
        "id": "P82SLerkufAc",
        "colab": {
          "base_uri": "https://localhost:8080/",
          "height": 463
        },
        "outputId": "74904f5b-bf01-4fb7-d7ff-f2477ccce22d"
      },
      "outputs": [
        {
          "output_type": "display_data",
          "data": {
            "text/plain": [
              "<Figure size 1080x504 with 1 Axes>"
            ],
            "image/png": "[encoded data removed]"
          },
          "metadata": {
            "needs_background": "light"
          }
        }
      ],
      "source": [
        "models = list(all_results.keys())\n",
        "accuracy = list(all_results.values())\n",
        "\n",
        "fig = plt.figure(figsize = (15, 7))\n",
        "\n",
        "# creating the bar plot\n",
        "plt.bar(models, accuracy, color ='maroon',\n",
        "\t\twidth = 0.4)\n",
        "\n",
        "plt.ylim(0.6, 0.8)\n",
        "plt.xlabel(\"Models\")\n",
        "plt.ylabel(\"Accuracy\")\n",
        "plt.title(\"Compare all model accuracy\")\n",
        "plt.show()"
      ],
      "id": "P82SLerkufAc"
    },
    {
      "cell_type": "markdown",
      "metadata": {
        "id": "ZLLmGWCPB2s0"
      },
      "source": [
        "logistic regression model hyperparameters using Grid search has the highest accuracy with 78%"
      ],
      "id": "ZLLmGWCPB2s0"
    },
    {
      "cell_type": "markdown",
      "metadata": {
        "id": "zquxL10bDvY_"
      },
      "source": [
        "We can predict other new data with the best model"
      ],
      "id": "zquxL10bDvY_"
    },
    {
      "cell_type": "markdown",
      "metadata": {
        "id": "hCx2JA_zFCTN"
      },
      "source": [
        "If the result is 1 means diabetic otherwise it is non-diabetic."
      ],
      "id": "hCx2JA_zFCTN"
    },
    {
      "cell_type": "code",
      "execution_count": 40,
      "metadata": {
        "id": "3qKDTyzOEWB4"
      },
      "outputs": [],
      "source": [
        "def predict_outcome(result):\n",
        "  print(result)\n",
        "  if result == 1:\n",
        "    return \"It is diabetic\"\n",
        "  else:\n",
        "    return \"It is non-diabetic\""
      ],
      "id": "3qKDTyzOEWB4"
    },
    {
      "cell_type": "code",
      "execution_count": 41,
      "metadata": {
        "id": "nY8R64UFDnn2",
        "colab": {
          "base_uri": "https://localhost:8080/",
          "height": 109
        },
        "outputId": "a68eb729-46d6-4570-a9e4-e1b1145170c5"
      },
      "outputs": [
        {
          "output_type": "stream",
          "name": "stdout",
          "text": [
            "0\n"
          ]
        },
        {
          "output_type": "stream",
          "name": "stderr",
          "text": [
            "/usr/local/lib/python3.7/dist-packages/sklearn/base.py:451: UserWarning: X does not have valid feature names, but LogisticRegression was fitted with feature names\n",
            "  \"X does not have valid feature names, but\"\n"
          ]
        },
        {
          "output_type": "execute_result",
          "data": {
            "text/plain": [
              "'It is non-diabetic'"
            ],
            "application/vnd.google.colaboratory.intrinsic+json": {
              "type": "string"
            }
          },
          "metadata": {},
          "execution_count": 41
        }
      ],
      "source": [
        "my_data = np.array([[3,130,80,22,0,30,0.25,35]])\n",
        "predict_outcome(best_model_logr.predict(my_data)[0])"
      ],
      "id": "nY8R64UFDnn2"
    },
    {
      "cell_type": "markdown",
      "metadata": {
        "id": "lrFHfhisHMyD"
      },
      "source": [
        "I came of my_data = np.array([[3,130,80,22,0,30,0.25,35]]), the prediction is\n",
        "non-diabetic"
      ],
      "id": "lrFHfhisHMyD"
    },
    {
      "cell_type": "code",
      "execution_count": 41,
      "metadata": {
        "id": "8oexstWqC02Q"
      },
      "outputs": [],
      "source": [
        ""
      ],
      "id": "8oexstWqC02Q"
    }
  ],
  "metadata": {
    "accelerator": "TPU",
    "colab": {
      "collapsed_sections": [],
      "name": "1002_NN.ipynb",
      "provenance": []
    },
    "kernelspec": {
      "display_name": "Python 3 (ipykernel)",
      "language": "python",
      "name": "python3"
    },
    "language_info": {
      "codemirror_mode": {
        "name": "ipython",
        "version": 3
      },
      "file_extension": ".py",
      "mimetype": "text/x-python",
      "name": "python",
      "nbconvert_exporter": "python",
      "pygments_lexer": "ipython3",
      "version": "3.9.7"
    }
  },
  "nbformat": 4,
  "nbformat_minor": 5
}