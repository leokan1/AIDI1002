{
  "cells": [
    {
      "cell_type": "code",
      "execution_count": 1,
      "metadata": {
        "id": "vU5U2E-eKKdD"
      },
      "outputs": [],
      "source": [
        "#import library\n",
        "import numpy as np\n",
        "import pandas as pd\n",
        "import matplotlib.pyplot as plt\n",
        "from sklearn import tree\n",
        "from sklearn import metrics\n",
        "from sklearn.metrics import accuracy_score,classification_report, confusion_matrix, f1_score\n",
        "import seaborn as sns\n",
        "from pprint import pprint"
      ]
    },
    {
      "cell_type": "markdown",
      "source": [
        "confusion matrix is a summary of the predicted results for a classification problem"
      ],
      "metadata": {
        "id": "-_CMSuLKzi1r"
      }
    },
    {
      "cell_type": "code",
      "execution_count": 2,
      "metadata": {
        "id": "tA8M6ximLjLA"
      },
      "outputs": [],
      "source": [
        "def plot_confusion_matrix(cm, classes=None, title='Confusion matrix'):\n",
        "    if classes is not None:\n",
        "        sns.heatmap(cm, cmap=\"YlGnBu\", xticklabels=classes, yticklabels=classes, vmin=0., vmax=1., annot=True, annot_kws={'size':30})\n",
        "    else:\n",
        "        sns.heatmap(cm, vmin=0., vmax=1.)\n",
        "    plt.title(title)\n",
        "    plt.ylabel('True label')\n",
        "    plt.xlabel('Predicted label')"
      ]
    },
    {
      "cell_type": "markdown",
      "source": [
        "Accuracy (e.g. classification accuracy) is a measure for classification\n",
        "\n",
        "Average Error is a mean of the predictions and test labels difference"
      ],
      "metadata": {
        "id": "XqbWCDoCiWkB"
      }
    },
    {
      "cell_type": "code",
      "execution_count": 3,
      "metadata": {
        "id": "6hONKJU4LjLB"
      },
      "outputs": [],
      "source": [
        "def evaluate(model, test_features, test_labels):\n",
        "    predictions = model.predict(test_features)\n",
        "    errors = abs(predictions - test_labels)\n",
        "    accuracy = accuracy_score(test_labels, predictions) * 100\n",
        "    print('Model Performance')\n",
        "    print('Average Error: {:0.4f} degrees.'.format(np.mean(errors)))\n",
        "    print('accuracy = {:0.2f}%.'.format(accuracy))\n",
        "    \n",
        "    return accuracy"
      ]
    },
    {
      "cell_type": "markdown",
      "source": [
        "Return summary of models by model name, erorr, and accuracy"
      ],
      "metadata": {
        "id": "q9j69qle0De8"
      }
    },
    {
      "cell_type": "code",
      "source": [
        "# Evaluate run time and prediction accuracy\n",
        "def evaluate_model(name, model, x_train, y_train, x_test, y_test):\n",
        "    n_trees = model.get_params()['n_estimators']\n",
        "    n_features = x_train.shape[1]\n",
        "    \n",
        "    predictions = model.predict(x_test)\n",
        "    \n",
        "    # Calculate performance metrics\n",
        "    errors = abs(predictions - y_test)\n",
        "    mean_error = np.mean(errors)\n",
        "    accuracy = accuracy_score(y_test, predictions) * 100\n",
        "    \n",
        "    # Return results in a dictionary\n",
        "    results = {'model': name, 'error': mean_error, 'accuracy': accuracy}\n",
        "    \n",
        "    return results"
      ],
      "metadata": {
        "id": "tj8Dok4-TMPv"
      },
      "execution_count": 4,
      "outputs": []
    },
    {
      "cell_type": "markdown",
      "source": [
        "Load in data"
      ],
      "metadata": {
        "id": "9HPuAdUo0SdQ"
      }
    },
    {
      "cell_type": "code",
      "execution_count": 5,
      "metadata": {
        "colab": {
          "base_uri": "https://localhost:8080/",
          "height": 206
        },
        "id": "FEXnuuWdMBm8",
        "outputId": "559bc04c-a297-4644-aff0-fc7dc7407b6d"
      },
      "outputs": [
        {
          "output_type": "execute_result",
          "data": {
            "text/html": [
              "\n",
              "  <div id=\"df-88bc2d22-4349-43e5-9dcd-7e31f43f5adc\">\n",
              "    <div class=\"colab-df-container\">\n",
              "      <div>\n",
              "<style scoped>\n",
              "    .dataframe tbody tr th:only-of-type {\n",
              "        vertical-align: middle;\n",
              "    }\n",
              "\n",
              "    .dataframe tbody tr th {\n",
              "        vertical-align: top;\n",
              "    }\n",
              "\n",
              "    .dataframe thead th {\n",
              "        text-align: right;\n",
              "    }\n",
              "</style>\n",
              "<table border=\"1\" class=\"dataframe\">\n",
              "  <thead>\n",
              "    <tr style=\"text-align: right;\">\n",
              "      <th></th>\n",
              "      <th>Pregnancies</th>\n",
              "      <th>Glucose</th>\n",
              "      <th>BloodPressure</th>\n",
              "      <th>SkinThickness</th>\n",
              "      <th>Insulin</th>\n",
              "      <th>BMI</th>\n",
              "      <th>DiabetesPedigreeFunction</th>\n",
              "      <th>Age</th>\n",
              "      <th>Outcome</th>\n",
              "    </tr>\n",
              "  </thead>\n",
              "  <tbody>\n",
              "    <tr>\n",
              "      <th>0</th>\n",
              "      <td>6</td>\n",
              "      <td>148</td>\n",
              "      <td>72</td>\n",
              "      <td>35</td>\n",
              "      <td>0</td>\n",
              "      <td>33.6</td>\n",
              "      <td>0.627</td>\n",
              "      <td>50</td>\n",
              "      <td>1</td>\n",
              "    </tr>\n",
              "    <tr>\n",
              "      <th>1</th>\n",
              "      <td>1</td>\n",
              "      <td>85</td>\n",
              "      <td>66</td>\n",
              "      <td>29</td>\n",
              "      <td>0</td>\n",
              "      <td>26.6</td>\n",
              "      <td>0.351</td>\n",
              "      <td>31</td>\n",
              "      <td>0</td>\n",
              "    </tr>\n",
              "    <tr>\n",
              "      <th>2</th>\n",
              "      <td>8</td>\n",
              "      <td>183</td>\n",
              "      <td>64</td>\n",
              "      <td>0</td>\n",
              "      <td>0</td>\n",
              "      <td>23.3</td>\n",
              "      <td>0.672</td>\n",
              "      <td>32</td>\n",
              "      <td>1</td>\n",
              "    </tr>\n",
              "    <tr>\n",
              "      <th>3</th>\n",
              "      <td>1</td>\n",
              "      <td>89</td>\n",
              "      <td>66</td>\n",
              "      <td>23</td>\n",
              "      <td>94</td>\n",
              "      <td>28.1</td>\n",
              "      <td>0.167</td>\n",
              "      <td>21</td>\n",
              "      <td>0</td>\n",
              "    </tr>\n",
              "    <tr>\n",
              "      <th>4</th>\n",
              "      <td>0</td>\n",
              "      <td>137</td>\n",
              "      <td>40</td>\n",
              "      <td>35</td>\n",
              "      <td>168</td>\n",
              "      <td>43.1</td>\n",
              "      <td>2.288</td>\n",
              "      <td>33</td>\n",
              "      <td>1</td>\n",
              "    </tr>\n",
              "  </tbody>\n",
              "</table>\n",
              "</div>\n",
              "      <button class=\"colab-df-convert\" onclick=\"convertToInteractive('df-88bc2d22-4349-43e5-9dcd-7e31f43f5adc')\"\n",
              "              title=\"Convert this dataframe to an interactive table.\"\n",
              "              style=\"display:none;\">\n",
              "        \n",
              "  <svg xmlns=\"http://www.w3.org/2000/svg\" height=\"24px\"viewBox=\"0 0 24 24\"\n",
              "       width=\"24px\">\n",
              "    <path d=\"M0 0h24v24H0V0z\" fill=\"none\"/>\n",
              "    <path d=\"M18.56 5.44l.94 2.06.94-2.06 2.06-.94-2.06-.94-.94-2.06-.94 2.06-2.06.94zm-11 1L8.5 8.5l.94-2.06 2.06-.94-2.06-.94L8.5 2.5l-.94 2.06-2.06.94zm10 10l.94 2.06.94-2.06 2.06-.94-2.06-.94-.94-2.06-.94 2.06-2.06.94z\"/><path d=\"M17.41 7.96l-1.37-1.37c-.4-.4-.92-.59-1.43-.59-.52 0-1.04.2-1.43.59L10.3 9.45l-7.72 7.72c-.78.78-.78 2.05 0 2.83L4 21.41c.39.39.9.59 1.41.59.51 0 1.02-.2 1.41-.59l7.78-7.78 2.81-2.81c.8-.78.8-2.07 0-2.86zM5.41 20L4 18.59l7.72-7.72 1.47 1.35L5.41 20z\"/>\n",
              "  </svg>\n",
              "      </button>\n",
              "      \n",
              "  <style>\n",
              "    .colab-df-container {\n",
              "      display:flex;\n",
              "      flex-wrap:wrap;\n",
              "      gap: 12px;\n",
              "    }\n",
              "\n",
              "    .colab-df-convert {\n",
              "      background-color: #E8F0FE;\n",
              "      border: none;\n",
              "      border-radius: 50%;\n",
              "      cursor: pointer;\n",
              "      display: none;\n",
              "      fill: #1967D2;\n",
              "      height: 32px;\n",
              "      padding: 0 0 0 0;\n",
              "      width: 32px;\n",
              "    }\n",
              "\n",
              "    .colab-df-convert:hover {\n",
              "      background-color: #E2EBFA;\n",
              "      box-shadow: 0px 1px 2px rgba(60, 64, 67, 0.3), 0px 1px 3px 1px rgba(60, 64, 67, 0.15);\n",
              "      fill: #174EA6;\n",
              "    }\n",
              "\n",
              "    [theme=dark] .colab-df-convert {\n",
              "      background-color: #3B4455;\n",
              "      fill: #D2E3FC;\n",
              "    }\n",
              "\n",
              "    [theme=dark] .colab-df-convert:hover {\n",
              "      background-color: #434B5C;\n",
              "      box-shadow: 0px 1px 3px 1px rgba(0, 0, 0, 0.15);\n",
              "      filter: drop-shadow(0px 1px 2px rgba(0, 0, 0, 0.3));\n",
              "      fill: #FFFFFF;\n",
              "    }\n",
              "  </style>\n",
              "\n",
              "      <script>\n",
              "        const buttonEl =\n",
              "          document.querySelector('#df-88bc2d22-4349-43e5-9dcd-7e31f43f5adc button.colab-df-convert');\n",
              "        buttonEl.style.display =\n",
              "          google.colab.kernel.accessAllowed ? 'block' : 'none';\n",
              "\n",
              "        async function convertToInteractive(key) {\n",
              "          const element = document.querySelector('#df-88bc2d22-4349-43e5-9dcd-7e31f43f5adc');\n",
              "          const dataTable =\n",
              "            await google.colab.kernel.invokeFunction('convertToInteractive',\n",
              "                                                     [key], {});\n",
              "          if (!dataTable) return;\n",
              "\n",
              "          const docLinkHtml = 'Like what you see? Visit the ' +\n",
              "            '<a target=\"_blank\" href=https://colab.research.google.com/notebooks/data_table.ipynb>data table notebook</a>'\n",
              "            + ' to learn more about interactive tables.';\n",
              "          element.innerHTML = '';\n",
              "          dataTable['output_type'] = 'display_data';\n",
              "          await google.colab.output.renderOutput(dataTable, element);\n",
              "          const docLink = document.createElement('div');\n",
              "          docLink.innerHTML = docLinkHtml;\n",
              "          element.appendChild(docLink);\n",
              "        }\n",
              "      </script>\n",
              "    </div>\n",
              "  </div>\n",
              "  "
            ],
            "text/plain": [
              "   Pregnancies  Glucose  BloodPressure  ...  DiabetesPedigreeFunction  Age  Outcome\n",
              "0            6      148             72  ...                     0.627   50        1\n",
              "1            1       85             66  ...                     0.351   31        0\n",
              "2            8      183             64  ...                     0.672   32        1\n",
              "3            1       89             66  ...                     0.167   21        0\n",
              "4            0      137             40  ...                     2.288   33        1\n",
              "\n",
              "[5 rows x 9 columns]"
            ]
          },
          "metadata": {},
          "execution_count": 5
        }
      ],
      "source": [
        "#loading dataset\n",
        "df=pd.read_csv(\"diabetes_dataset.csv\")\n",
        "df.head()"
      ]
    },
    {
      "cell_type": "markdown",
      "source": [
        "Prepare Data"
      ],
      "metadata": {
        "id": "sw03gX010UNA"
      }
    },
    {
      "cell_type": "code",
      "execution_count": 6,
      "metadata": {
        "id": "ZHDE7n7fMXF1"
      },
      "outputs": [],
      "source": [
        "#feature variables\n",
        "features=df.drop(['Outcome'], axis=1)\n",
        "labels=df.Outcome"
      ]
    },
    {
      "cell_type": "code",
      "execution_count": 7,
      "metadata": {
        "id": "783jd1sHQyP4"
      },
      "outputs": [],
      "source": [
        "from sklearn.tree import DecisionTreeClassifier # Import Decision Tree Classifier\n",
        "from sklearn.model_selection import train_test_split # Import train_test_split function\n",
        "x_train, x_test, y_train, y_test = train_test_split(features, labels, test_size=0.25, random_state=0)"
      ]
    },
    {
      "cell_type": "code",
      "execution_count": 8,
      "metadata": {
        "colab": {
          "base_uri": "https://localhost:8080/"
        },
        "id": "L5fcszEvLjLE",
        "outputId": "29f65fbd-aba8-4463-fea5-aecb687bbad2"
      },
      "outputs": [
        {
          "output_type": "stream",
          "name": "stdout",
          "text": [
            "Training Features Shape: (576, 8)\n",
            "Training Labels Shape: (576,)\n",
            "Testing Features Shape: (192, 8)\n",
            "Testing Labels Shape: (192,)\n"
          ]
        }
      ],
      "source": [
        "print('Training Features Shape:', x_train.shape)\n",
        "print('Training Labels Shape:', y_train.shape)\n",
        "print('Testing Features Shape:', x_test.shape)\n",
        "print('Testing Labels Shape:', y_test.shape)"
      ]
    },
    {
      "cell_type": "markdown",
      "source": [
        "Setup a Default Decision Tree"
      ],
      "metadata": {
        "id": "TA1VXyks0gTT"
      }
    },
    {
      "cell_type": "code",
      "execution_count": 9,
      "metadata": {
        "colab": {
          "base_uri": "https://localhost:8080/"
        },
        "id": "SbFmwo7ERWG6",
        "outputId": "24b8ffa1-4935-4e38-c23a-aad4a0ecde95"
      },
      "outputs": [
        {
          "output_type": "stream",
          "name": "stdout",
          "text": [
            "              precision    recall  f1-score   support\n",
            "\n",
            "           0       0.80      0.79      0.80       130\n",
            "           1       0.58      0.60      0.59        62\n",
            "\n",
            "    accuracy                           0.73       192\n",
            "   macro avg       0.69      0.69      0.69       192\n",
            "weighted avg       0.73      0.73      0.73       192\n",
            "\n"
          ]
        }
      ],
      "source": [
        "# Create Decision Tree classifer object\n",
        "model = DecisionTreeClassifier()\n",
        "\n",
        "# Train Decision Tree Classifer\n",
        "model = model.fit(x_train,y_train)\n",
        "\n",
        "#Predict the response for test dataset\n",
        "y_pred = model.predict(x_test)\n",
        "\n",
        "errors = abs(y_pred - y_test)\n",
        "mean_error = np.mean(errors)\n",
        "print(classification_report(y_test,y_pred))\n",
        "decision_tree_results = {'model': 'decision_tree', 'error': mean_error, 'accuracy': accuracy_score(y_test, y_pred) * 100}"
      ]
    },
    {
      "cell_type": "markdown",
      "source": [
        "We got 73% accuracy for default decision tree"
      ],
      "metadata": {
        "id": "6VtFDg3x1gPx"
      }
    },
    {
      "cell_type": "code",
      "execution_count": 10,
      "metadata": {
        "colab": {
          "base_uri": "https://localhost:8080/",
          "height": 295
        },
        "id": "A1iYHrDJbyC6",
        "outputId": "c54d6390-795c-4174-e5bb-5f4a3a91993b"
      },
      "outputs": [
        {
          "output_type": "display_data",
          "data": {
            "image/png": "[encoded data removed]",
            "text/plain": [
              "<Figure size 432x288 with 2 Axes>"
            ]
          },
          "metadata": {
            "needs_background": "light"
          }
        }
      ],
      "source": [
        "#Evaluation using Confusion matrix\n",
        "# Visualizing confusion matrixx\n",
        "\n",
        "cm = confusion_matrix(y_test,y_pred) \n",
        "cm_norm = cm / cm.sum(axis=1).reshape(-1,1)\n",
        "\n",
        "plot_confusion_matrix(cm_norm, classes = model.classes_, title='Confusion matrix')"
      ]
    },
    {
      "cell_type": "code",
      "execution_count": 11,
      "metadata": {
        "colab": {
          "base_uri": "https://localhost:8080/"
        },
        "id": "jHQWYLqfSqW-",
        "outputId": "36cae7a0-c020-482c-c2ed-2f11c263414c"
      },
      "outputs": [
        {
          "output_type": "stream",
          "name": "stderr",
          "text": [
            "/usr/local/lib/python3.7/dist-packages/sklearn/base.py:451: UserWarning: X does not have valid feature names, but DecisionTreeClassifier was fitted with feature names\n",
            "  \"X does not have valid feature names, but\"\n"
          ]
        },
        {
          "output_type": "execute_result",
          "data": {
            "text/plain": [
              "array([1])"
            ]
          },
          "metadata": {},
          "execution_count": 11
        }
      ],
      "source": [
        "#checking prediction value\n",
        "model.predict([[6,148,72,35,0,33.6,0.627,50]])"
      ]
    },
    {
      "cell_type": "markdown",
      "source": [
        "Setup Decision tree with entropy"
      ],
      "metadata": {
        "id": "rSho4jjk0cj3"
      }
    },
    {
      "cell_type": "code",
      "execution_count": 12,
      "metadata": {
        "colab": {
          "base_uri": "https://localhost:8080/"
        },
        "id": "pKbAFoJ2VVPW",
        "outputId": "a7cb15d1-8023-4264-995b-5f2b2f9a5ad5"
      },
      "outputs": [
        {
          "output_type": "stream",
          "name": "stdout",
          "text": [
            "              precision    recall  f1-score   support\n",
            "\n",
            "           0       0.78      0.86      0.82       130\n",
            "           1       0.63      0.50      0.56        62\n",
            "\n",
            "    accuracy                           0.74       192\n",
            "   macro avg       0.71      0.68      0.69       192\n",
            "weighted avg       0.73      0.74      0.74       192\n",
            "\n"
          ]
        }
      ],
      "source": [
        "# Create Decision Tree classifer object\n",
        "model1 = DecisionTreeClassifier(criterion=\"entropy\", max_depth=3)\n",
        "\n",
        "# Train Decision Tree Classifer\n",
        "model1 = model1.fit(x_train,y_train)\n",
        "\n",
        "#Predict the response for test dataset\n",
        "y_pred = model1.predict(x_test)\n",
        "\n",
        "errors = abs(y_pred - y_test)\n",
        "mean_error = np.mean(errors)\n",
        "print(classification_report(y_test,y_pred))\n",
        "decision_tree_entropy_results = {'model': 'tree_entropy', 'error': mean_error, 'accuracy': accuracy_score(y_test, y_pred) * 100}"
      ]
    },
    {
      "cell_type": "markdown",
      "metadata": {
        "id": "Gn8qo4QdcK6O"
      },
      "source": [
        "The classification rate increased to 74%, which is better accuracy than the previous model.\n",
        "\n"
      ]
    },
    {
      "cell_type": "code",
      "execution_count": 13,
      "metadata": {
        "colab": {
          "base_uri": "https://localhost:8080/",
          "height": 1000
        },
        "id": "19LX-_beLjLI",
        "outputId": "31ce8f11-38dd-4aae-cf97-8ff9f9163ef6"
      },
      "outputs": [
        {
          "output_type": "display_data",
          "data": {
            "image/png": "[encoded data removed]",
            "text/plain": [
              "<Figure size 1800x1440 with 1 Axes>"
            ]
          },
          "metadata": {
            "needs_background": "light"
          }
        }
      ],
      "source": [
        "fig = plt.figure(figsize=(25,20))\n",
        "plot = tree.plot_tree(model1, \n",
        "                   feature_names=features.columns,  \n",
        "                   class_names=['0','1'],\n",
        "                   filled=True)"
      ]
    },
    {
      "cell_type": "markdown",
      "source": [
        "Randomized Search CV"
      ],
      "metadata": {
        "id": "JuyI1MuU1vrm"
      }
    },
    {
      "cell_type": "code",
      "execution_count": 14,
      "metadata": {
        "colab": {
          "base_uri": "https://localhost:8080/"
        },
        "id": "Pv0XuBf6LjLJ",
        "outputId": "6b3e9159-3f5b-4d87-95fd-e2f634de8be5"
      },
      "outputs": [
        {
          "output_type": "stream",
          "name": "stdout",
          "text": [
            "{'bootstrap': [True, False],\n",
            " 'max_depth': [10, 20, 30, 40, 50, 60, 70, 80, 90, 100, 110, None],\n",
            " 'max_features': ['auto', 'sqrt'],\n",
            " 'min_samples_leaf': [1, 2, 4],\n",
            " 'min_samples_split': [2, 5, 10],\n",
            " 'n_estimators': [200, 400, 600, 800, 1000, 1200, 1400, 1600, 1800, 2000]}\n"
          ]
        }
      ],
      "source": [
        "from sklearn.model_selection import RandomizedSearchCV\n",
        "\n",
        "# Number of trees in random forest\n",
        "n_estimators = [int(x) for x in np.linspace(start = 200, stop = 2000, num = 10)]\n",
        "# Number of features to consider at every split\n",
        "max_features = ['auto', 'sqrt']\n",
        "# Maximum number of levels in tree\n",
        "max_depth = [int(x) for x in np.linspace(10, 110, num = 11)]\n",
        "max_depth.append(None)\n",
        "# Minimum number of samples required to split a node\n",
        "min_samples_split = [2, 5, 10]\n",
        "# Minimum number of samples required at each leaf node\n",
        "min_samples_leaf = [1, 2, 4]\n",
        "# Method of selecting samples for training each tree\n",
        "bootstrap = [True, False]\n",
        "\n",
        "# Create the random grid\n",
        "random_grid = {'n_estimators': n_estimators,\n",
        "               'max_features': max_features,\n",
        "               'max_depth': max_depth,\n",
        "               'min_samples_split': min_samples_split,\n",
        "               'min_samples_leaf': min_samples_leaf,\n",
        "               'bootstrap': bootstrap}\n",
        "\n",
        "pprint(random_grid)"
      ]
    },
    {
      "cell_type": "markdown",
      "source": [
        "K fold 5 times for random search cv"
      ],
      "metadata": {
        "id": "2FNryEou3eT7"
      }
    },
    {
      "cell_type": "code",
      "execution_count": 15,
      "metadata": {
        "colab": {
          "base_uri": "https://localhost:8080/"
        },
        "id": "lT9TtIRjLjLK",
        "outputId": "6f88b8e5-a5e7-464d-af39-caac438205d7"
      },
      "outputs": [
        {
          "output_type": "stream",
          "name": "stdout",
          "text": [
            "Fitting 5 folds for each of 50 candidates, totalling 250 fits\n"
          ]
        }
      ],
      "source": [
        "from sklearn.ensemble import RandomForestClassifier\n",
        "# Use the random grid to search for best hyperparameters\n",
        "# First create the base model to tune\n",
        "rf = RandomForestClassifier(random_state = 42)\n",
        "# Random search of parameters, using 5 fold cross validation, \n",
        "# search across 50 different combinations, and use all available cores\n",
        "rf_random = RandomizedSearchCV(estimator=rf, param_distributions=random_grid,\n",
        "                              n_iter = 50, scoring='accuracy', \n",
        "                              cv = 5, verbose=2, random_state=42, n_jobs=-1,\n",
        "                              return_train_score=True)\n",
        "\n",
        "# Fit the random search model\n",
        "rf_random.fit(x_train, y_train);"
      ]
    },
    {
      "cell_type": "code",
      "execution_count": 16,
      "metadata": {
        "colab": {
          "base_uri": "https://localhost:8080/"
        },
        "id": "Qd0mvyjFLjLK",
        "outputId": "14803601-269a-49c3-9464-1ef44bc7be6a"
      },
      "outputs": [
        {
          "output_type": "execute_result",
          "data": {
            "text/plain": [
              "{'bootstrap': False,\n",
              " 'max_depth': 10,\n",
              " 'max_features': 'sqrt',\n",
              " 'min_samples_leaf': 1,\n",
              " 'min_samples_split': 10,\n",
              " 'n_estimators': 2000}"
            ]
          },
          "metadata": {},
          "execution_count": 16
        }
      ],
      "source": [
        "rf_random.best_params_"
      ]
    },
    {
      "cell_type": "markdown",
      "source": [
        "Setup default random forest model"
      ],
      "metadata": {
        "id": "WZFPPXgM1x74"
      }
    },
    {
      "cell_type": "code",
      "execution_count": 17,
      "metadata": {
        "colab": {
          "base_uri": "https://localhost:8080/"
        },
        "id": "XJxMio7ZLjLK",
        "outputId": "5d8b9435-8153-4171-f1fc-1a6675ee50e8"
      },
      "outputs": [
        {
          "output_type": "stream",
          "name": "stdout",
          "text": [
            "Model Performance\n",
            "Average Error: 0.2240 degrees.\n",
            "accuracy = 77.60%.\n"
          ]
        }
      ],
      "source": [
        "base_model = RandomForestClassifier(n_estimators = 10, random_state = 42)\n",
        "base_model.fit(x_train, y_train)\n",
        "base_accuracy = evaluate(base_model, x_test, y_test)\n",
        "baseline_results = evaluate_model('baseline', base_model, x_train, y_train, x_test, y_test)"
      ]
    },
    {
      "cell_type": "code",
      "execution_count": 18,
      "metadata": {
        "colab": {
          "base_uri": "https://localhost:8080/"
        },
        "id": "FWQ8AVssLjLL",
        "outputId": "fe101720-34b9-4d39-8269-017e6e873259"
      },
      "outputs": [
        {
          "output_type": "stream",
          "name": "stdout",
          "text": [
            "Model Performance\n",
            "Average Error: 0.2240 degrees.\n",
            "accuracy = 77.60%.\n"
          ]
        }
      ],
      "source": [
        "best_random = rf_random.best_estimator_\n",
        "random_accuracy = evaluate(best_random, x_test, y_test)\n",
        "random_results = evaluate_model('random_Search', best_random, x_train, y_train, x_test, y_test)"
      ]
    },
    {
      "cell_type": "markdown",
      "source": [
        "Compare model from random search cv and default model"
      ],
      "metadata": {
        "id": "b30zK-Mr13vu"
      }
    },
    {
      "cell_type": "code",
      "execution_count": 19,
      "metadata": {
        "colab": {
          "base_uri": "https://localhost:8080/"
        },
        "id": "lsKwQBEOLjLL",
        "outputId": "911810c2-118d-4eb1-9c21-56d3783908ce"
      },
      "outputs": [
        {
          "output_type": "stream",
          "name": "stdout",
          "text": [
            "Improvement of 0.00%.\n"
          ]
        }
      ],
      "source": [
        "print('Improvement of {:0.2f}%.'.format( 100 * (random_accuracy - base_accuracy) / base_accuracy))"
      ]
    },
    {
      "cell_type": "markdown",
      "source": [
        "Grid Search CV with K fold 5 times"
      ],
      "metadata": {
        "id": "F6SFebot2Ejj"
      }
    },
    {
      "cell_type": "code",
      "execution_count": 20,
      "metadata": {
        "id": "T65uyilyLjLL"
      },
      "outputs": [],
      "source": [
        "from sklearn.model_selection import GridSearchCV\n",
        "\n",
        "# Create the parameter grid based on the results of random search \n",
        "param_grid = {\n",
        "    'bootstrap': [True],\n",
        "    'max_depth': [80, 90, 100, 110],\n",
        "    'max_features': [2, 3],\n",
        "    'min_samples_leaf': [3, 4, 5],\n",
        "    'min_samples_split': [8, 10, 12],\n",
        "    'n_estimators': [100, 200, 300, 1000]\n",
        "}\n",
        "\n",
        "# Create a base model\n",
        "rf = RandomForestClassifier(random_state = 42)\n",
        "\n",
        "# Instantiate the grid search model\n",
        "grid_search = GridSearchCV(estimator = rf, param_grid = param_grid, scoring='accuracy', \n",
        "                          cv = 5, n_jobs = -1, verbose = 2, return_train_score=True)"
      ]
    },
    {
      "cell_type": "code",
      "execution_count": 21,
      "metadata": {
        "colab": {
          "base_uri": "https://localhost:8080/"
        },
        "id": "x2d4BLXdLjLL",
        "outputId": "2dfc0cd2-50f9-4cc2-d6e6-9d5e5c0674bb"
      },
      "outputs": [
        {
          "output_type": "stream",
          "name": "stdout",
          "text": [
            "Fitting 5 folds for each of 288 candidates, totalling 1440 fits\n"
          ]
        }
      ],
      "source": [
        "# Fit the grid search to the data\n",
        "grid_search.fit(x_train, y_train);"
      ]
    },
    {
      "cell_type": "code",
      "execution_count": 22,
      "metadata": {
        "colab": {
          "base_uri": "https://localhost:8080/"
        },
        "id": "KaEfBtIVLjLM",
        "outputId": "cc5fcf2e-6858-4373-de3b-c5b0a40a7496"
      },
      "outputs": [
        {
          "output_type": "execute_result",
          "data": {
            "text/plain": [
              "{'bootstrap': True,\n",
              " 'max_depth': 80,\n",
              " 'max_features': 2,\n",
              " 'min_samples_leaf': 4,\n",
              " 'min_samples_split': 10,\n",
              " 'n_estimators': 200}"
            ]
          },
          "metadata": {},
          "execution_count": 22
        }
      ],
      "source": [
        "grid_search.best_params_"
      ]
    },
    {
      "cell_type": "code",
      "source": [
        "best_grid = grid_search.best_estimator_\n",
        "grid_accuracy = evaluate(best_grid, x_test, y_test)\n",
        "first_grid = evaluate_model('first_grid', best_grid, x_train, y_train, x_test, y_test)"
      ],
      "metadata": {
        "colab": {
          "base_uri": "https://localhost:8080/"
        },
        "id": "orFgxEJsRMFZ",
        "outputId": "10342466-7008-476d-e9a3-00ba0b335cc2"
      },
      "execution_count": 23,
      "outputs": [
        {
          "output_type": "stream",
          "name": "stdout",
          "text": [
            "Model Performance\n",
            "Average Error: 0.2031 degrees.\n",
            "accuracy = 79.69%.\n"
          ]
        }
      ]
    },
    {
      "cell_type": "markdown",
      "source": [
        "Compare model from grid search cv and default model"
      ],
      "metadata": {
        "id": "HyDKARIM2Ah5"
      }
    },
    {
      "cell_type": "code",
      "source": [
        "print('Improvement of {:0.2f}%.'.format( 100 * (grid_accuracy - base_accuracy) / base_accuracy))"
      ],
      "metadata": {
        "colab": {
          "base_uri": "https://localhost:8080/"
        },
        "id": "hzuSpqqdRWDD",
        "outputId": "796bc032-3315-4936-ca1a-98093e34a881"
      },
      "execution_count": 24,
      "outputs": [
        {
          "output_type": "stream",
          "name": "stdout",
          "text": [
            "Improvement of 2.68%.\n"
          ]
        }
      ]
    },
    {
      "cell_type": "markdown",
      "source": [
        "Second grid search cv with different parameter, K fold 5 times"
      ],
      "metadata": {
        "id": "RcfYZi1Q2JL4"
      }
    },
    {
      "cell_type": "code",
      "source": [
        "param_grid = {\n",
        "    'bootstrap': [True],\n",
        "    'max_depth': [110, 120, None],\n",
        "    'max_features': [3, 4],\n",
        "    'min_samples_leaf': [5, 6, 7],\n",
        "    'min_samples_split': [10],\n",
        "    'n_estimators': [75, 100, 125]\n",
        "}\n",
        "\n",
        "# Create a base model\n",
        "rf = RandomForestClassifier(random_state = 42)\n",
        "\n",
        "# Instantiate the grid search model\n",
        "grid_search_final = GridSearchCV(estimator = rf, param_grid = param_grid, scoring='accuracy', \n",
        "                                 cv = 5, n_jobs = -1, verbose = 2, return_train_score=True)\n",
        "\n",
        "grid_search_final.fit(x_train, y_train);"
      ],
      "metadata": {
        "colab": {
          "base_uri": "https://localhost:8080/"
        },
        "id": "wadyHoPSRbFN",
        "outputId": "f934beac-c0f0-4b36-fd1c-21171cc89e52"
      },
      "execution_count": 25,
      "outputs": [
        {
          "output_type": "stream",
          "name": "stdout",
          "text": [
            "Fitting 5 folds for each of 54 candidates, totalling 270 fits\n"
          ]
        }
      ]
    },
    {
      "cell_type": "code",
      "source": [
        "grid_search_final.best_params_"
      ],
      "metadata": {
        "colab": {
          "base_uri": "https://localhost:8080/"
        },
        "id": "Q933_XlXRlbO",
        "outputId": "4ee9e4d0-ada3-4af6-d66b-865ffb44ecbb"
      },
      "execution_count": 26,
      "outputs": [
        {
          "output_type": "execute_result",
          "data": {
            "text/plain": [
              "{'bootstrap': True,\n",
              " 'max_depth': 110,\n",
              " 'max_features': 4,\n",
              " 'min_samples_leaf': 7,\n",
              " 'min_samples_split': 10,\n",
              " 'n_estimators': 75}"
            ]
          },
          "metadata": {},
          "execution_count": 26
        }
      ]
    },
    {
      "cell_type": "code",
      "source": [
        "best_grid_final = grid_search_final.best_estimator_\n",
        "grid_final_accuracy = evaluate(best_grid_final, x_test, y_test)\n",
        "second_grid = evaluate_model('second_grid', best_grid_final, x_train, y_train, x_test, y_test)"
      ],
      "metadata": {
        "colab": {
          "base_uri": "https://localhost:8080/"
        },
        "id": "uFgBKsZBRqhE",
        "outputId": "d9e0f577-95c6-4e58-aa76-e74b0e5cb876"
      },
      "execution_count": 27,
      "outputs": [
        {
          "output_type": "stream",
          "name": "stdout",
          "text": [
            "Model Performance\n",
            "Average Error: 0.2083 degrees.\n",
            "accuracy = 79.17%.\n"
          ]
        }
      ]
    },
    {
      "cell_type": "markdown",
      "source": [
        "Compare second grid search cv model and default model"
      ],
      "metadata": {
        "id": "zTluJ2Ig2Mx_"
      }
    },
    {
      "cell_type": "code",
      "source": [
        "print(grid_final_accuracy, base_accuracy)\n",
        "print('Improvement of {:0.2f}%.'.format( 100 * (grid_final_accuracy - base_accuracy) / base_accuracy))"
      ],
      "metadata": {
        "colab": {
          "base_uri": "https://localhost:8080/"
        },
        "id": "W_DcCuP-RuMg",
        "outputId": "8ef4e90c-be01-49ac-bfa3-52ba78008598"
      },
      "execution_count": 28,
      "outputs": [
        {
          "output_type": "stream",
          "name": "stdout",
          "text": [
            "79.16666666666666 77.60416666666666\n",
            "Improvement of 2.01%.\n"
          ]
        }
      ]
    },
    {
      "cell_type": "markdown",
      "source": [
        "Use the best grid search cv model"
      ],
      "metadata": {
        "id": "x4xi71cE2Vjw"
      }
    },
    {
      "cell_type": "code",
      "source": [
        "final_model = grid_search.best_estimator_\n",
        "\n",
        "print('Final Model Parameters:\\n')\n",
        "pprint(final_model.get_params())\n",
        "print('\\n')\n",
        "grid_final_accuracy = evaluate(final_model, x_test, y_test)"
      ],
      "metadata": {
        "colab": {
          "base_uri": "https://localhost:8080/"
        },
        "id": "2Yu5_Oh9R0Pi",
        "outputId": "251c99fe-fcdb-4f5c-95d8-c3e889023dc4"
      },
      "execution_count": 29,
      "outputs": [
        {
          "output_type": "stream",
          "name": "stdout",
          "text": [
            "Final Model Parameters:\n",
            "\n",
            "{'bootstrap': True,\n",
            " 'ccp_alpha': 0.0,\n",
            " 'class_weight': None,\n",
            " 'criterion': 'gini',\n",
            " 'max_depth': 80,\n",
            " 'max_features': 2,\n",
            " 'max_leaf_nodes': None,\n",
            " 'max_samples': None,\n",
            " 'min_impurity_decrease': 0.0,\n",
            " 'min_samples_leaf': 4,\n",
            " 'min_samples_split': 10,\n",
            " 'min_weight_fraction_leaf': 0.0,\n",
            " 'n_estimators': 200,\n",
            " 'n_jobs': None,\n",
            " 'oob_score': False,\n",
            " 'random_state': 42,\n",
            " 'verbose': 0,\n",
            " 'warm_start': False}\n",
            "\n",
            "\n",
            "Model Performance\n",
            "Average Error: 0.2031 degrees.\n",
            "accuracy = 79.69%.\n"
          ]
        }
      ]
    },
    {
      "cell_type": "code",
      "source": [
        "baseline_results"
      ],
      "metadata": {
        "colab": {
          "base_uri": "https://localhost:8080/"
        },
        "id": "jaWyUqrJfq3z",
        "outputId": "2c016bbc-3efe-4324-cc17-c8edea2d9fb9"
      },
      "execution_count": 30,
      "outputs": [
        {
          "output_type": "execute_result",
          "data": {
            "text/plain": [
              "{'accuracy': 77.60416666666666,\n",
              " 'error': 0.22395833333333334,\n",
              " 'model': 'baseline'}"
            ]
          },
          "metadata": {},
          "execution_count": 30
        }
      ]
    },
    {
      "cell_type": "markdown",
      "source": [
        "Compare all model by bar chart"
      ],
      "metadata": {
        "id": "quEze04R2Z-D"
      }
    },
    {
      "cell_type": "code",
      "source": [
        "comparison = {'model': [decision_tree_results['model'], decision_tree_entropy_results['model']],\n",
        "              'accuracy': [round(decision_tree_results['accuracy'], 3), round(decision_tree_entropy_results['accuracy'], 3)],\n",
        "              'error': [round(decision_tree_results['error'], 3), round(decision_tree_entropy_results['error'], 3)]}\n",
        "                        \n",
        "for model in [baseline_results, random_results, first_grid, second_grid]:\n",
        "    comparison['model'].append(model['model'])\n",
        "    comparison['accuracy'].append(round(model['accuracy'], 3))\n",
        "    comparison['error'].append(round(model['error'], 3))"
      ],
      "metadata": {
        "id": "nT_5wH8Be4U6"
      },
      "execution_count": 31,
      "outputs": []
    },
    {
      "cell_type": "code",
      "source": [
        "comparison = pd.DataFrame.from_dict(comparison, orient = 'columns')"
      ],
      "metadata": {
        "id": "TsxQITyKf3RB"
      },
      "execution_count": 32,
      "outputs": []
    },
    {
      "cell_type": "code",
      "source": [
        "comparison[['model', 'accuracy', 'error']]"
      ],
      "metadata": {
        "colab": {
          "base_uri": "https://localhost:8080/",
          "height": 237
        },
        "id": "vPbvf7GYf4BN",
        "outputId": "e2636696-99fd-4a74-8aea-b95864bbaef0"
      },
      "execution_count": 33,
      "outputs": [
        {
          "output_type": "execute_result",
          "data": {
            "text/html": [
              "\n",
              "  <div id=\"df-4d86f660-c931-4348-8beb-67a45373b030\">\n",
              "    <div class=\"colab-df-container\">\n",
              "      <div>\n",
              "<style scoped>\n",
              "    .dataframe tbody tr th:only-of-type {\n",
              "        vertical-align: middle;\n",
              "    }\n",
              "\n",
              "    .dataframe tbody tr th {\n",
              "        vertical-align: top;\n",
              "    }\n",
              "\n",
              "    .dataframe thead th {\n",
              "        text-align: right;\n",
              "    }\n",
              "</style>\n",
              "<table border=\"1\" class=\"dataframe\">\n",
              "  <thead>\n",
              "    <tr style=\"text-align: right;\">\n",
              "      <th></th>\n",
              "      <th>model</th>\n",
              "      <th>accuracy</th>\n",
              "      <th>error</th>\n",
              "    </tr>\n",
              "  </thead>\n",
              "  <tbody>\n",
              "    <tr>\n",
              "      <th>0</th>\n",
              "      <td>decision_tree</td>\n",
              "      <td>72.917</td>\n",
              "      <td>0.271</td>\n",
              "    </tr>\n",
              "    <tr>\n",
              "      <th>1</th>\n",
              "      <td>tree_entropy</td>\n",
              "      <td>74.479</td>\n",
              "      <td>0.255</td>\n",
              "    </tr>\n",
              "    <tr>\n",
              "      <th>2</th>\n",
              "      <td>baseline</td>\n",
              "      <td>77.604</td>\n",
              "      <td>0.224</td>\n",
              "    </tr>\n",
              "    <tr>\n",
              "      <th>3</th>\n",
              "      <td>random_Search</td>\n",
              "      <td>77.604</td>\n",
              "      <td>0.224</td>\n",
              "    </tr>\n",
              "    <tr>\n",
              "      <th>4</th>\n",
              "      <td>first_grid</td>\n",
              "      <td>79.688</td>\n",
              "      <td>0.203</td>\n",
              "    </tr>\n",
              "    <tr>\n",
              "      <th>5</th>\n",
              "      <td>second_grid</td>\n",
              "      <td>79.167</td>\n",
              "      <td>0.208</td>\n",
              "    </tr>\n",
              "  </tbody>\n",
              "</table>\n",
              "</div>\n",
              "      <button class=\"colab-df-convert\" onclick=\"convertToInteractive('df-4d86f660-c931-4348-8beb-67a45373b030')\"\n",
              "              title=\"Convert this dataframe to an interactive table.\"\n",
              "              style=\"display:none;\">\n",
              "        \n",
              "  <svg xmlns=\"http://www.w3.org/2000/svg\" height=\"24px\"viewBox=\"0 0 24 24\"\n",
              "       width=\"24px\">\n",
              "    <path d=\"M0 0h24v24H0V0z\" fill=\"none\"/>\n",
              "    <path d=\"M18.56 5.44l.94 2.06.94-2.06 2.06-.94-2.06-.94-.94-2.06-.94 2.06-2.06.94zm-11 1L8.5 8.5l.94-2.06 2.06-.94-2.06-.94L8.5 2.5l-.94 2.06-2.06.94zm10 10l.94 2.06.94-2.06 2.06-.94-2.06-.94-.94-2.06-.94 2.06-2.06.94z\"/><path d=\"M17.41 7.96l-1.37-1.37c-.4-.4-.92-.59-1.43-.59-.52 0-1.04.2-1.43.59L10.3 9.45l-7.72 7.72c-.78.78-.78 2.05 0 2.83L4 21.41c.39.39.9.59 1.41.59.51 0 1.02-.2 1.41-.59l7.78-7.78 2.81-2.81c.8-.78.8-2.07 0-2.86zM5.41 20L4 18.59l7.72-7.72 1.47 1.35L5.41 20z\"/>\n",
              "  </svg>\n",
              "      </button>\n",
              "      \n",
              "  <style>\n",
              "    .colab-df-container {\n",
              "      display:flex;\n",
              "      flex-wrap:wrap;\n",
              "      gap: 12px;\n",
              "    }\n",
              "\n",
              "    .colab-df-convert {\n",
              "      background-color: #E8F0FE;\n",
              "      border: none;\n",
              "      border-radius: 50%;\n",
              "      cursor: pointer;\n",
              "      display: none;\n",
              "      fill: #1967D2;\n",
              "      height: 32px;\n",
              "      padding: 0 0 0 0;\n",
              "      width: 32px;\n",
              "    }\n",
              "\n",
              "    .colab-df-convert:hover {\n",
              "      background-color: #E2EBFA;\n",
              "      box-shadow: 0px 1px 2px rgba(60, 64, 67, 0.3), 0px 1px 3px 1px rgba(60, 64, 67, 0.15);\n",
              "      fill: #174EA6;\n",
              "    }\n",
              "\n",
              "    [theme=dark] .colab-df-convert {\n",
              "      background-color: #3B4455;\n",
              "      fill: #D2E3FC;\n",
              "    }\n",
              "\n",
              "    [theme=dark] .colab-df-convert:hover {\n",
              "      background-color: #434B5C;\n",
              "      box-shadow: 0px 1px 3px 1px rgba(0, 0, 0, 0.15);\n",
              "      filter: drop-shadow(0px 1px 2px rgba(0, 0, 0, 0.3));\n",
              "      fill: #FFFFFF;\n",
              "    }\n",
              "  </style>\n",
              "\n",
              "      <script>\n",
              "        const buttonEl =\n",
              "          document.querySelector('#df-4d86f660-c931-4348-8beb-67a45373b030 button.colab-df-convert');\n",
              "        buttonEl.style.display =\n",
              "          google.colab.kernel.accessAllowed ? 'block' : 'none';\n",
              "\n",
              "        async function convertToInteractive(key) {\n",
              "          const element = document.querySelector('#df-4d86f660-c931-4348-8beb-67a45373b030');\n",
              "          const dataTable =\n",
              "            await google.colab.kernel.invokeFunction('convertToInteractive',\n",
              "                                                     [key], {});\n",
              "          if (!dataTable) return;\n",
              "\n",
              "          const docLinkHtml = 'Like what you see? Visit the ' +\n",
              "            '<a target=\"_blank\" href=https://colab.research.google.com/notebooks/data_table.ipynb>data table notebook</a>'\n",
              "            + ' to learn more about interactive tables.';\n",
              "          element.innerHTML = '';\n",
              "          dataTable['output_type'] = 'display_data';\n",
              "          await google.colab.output.renderOutput(dataTable, element);\n",
              "          const docLink = document.createElement('div');\n",
              "          docLink.innerHTML = docLinkHtml;\n",
              "          element.appendChild(docLink);\n",
              "        }\n",
              "      </script>\n",
              "    </div>\n",
              "  </div>\n",
              "  "
            ],
            "text/plain": [
              "           model  accuracy  error\n",
              "0  decision_tree    72.917  0.271\n",
              "1   tree_entropy    74.479  0.255\n",
              "2       baseline    77.604  0.224\n",
              "3  random_Search    77.604  0.224\n",
              "4     first_grid    79.688  0.203\n",
              "5    second_grid    79.167  0.208"
            ]
          },
          "metadata": {},
          "execution_count": 33
        }
      ]
    },
    {
      "cell_type": "code",
      "source": [
        "import matplotlib.pyplot as plt\n",
        "import seaborn as sns\n",
        "%matplotlib inline\n"
      ],
      "metadata": {
        "id": "ZjT449N7gqUz"
      },
      "execution_count": 37,
      "outputs": []
    },
    {
      "cell_type": "code",
      "source": [
        "xvalues = list(range(len(comparison)))\n",
        "plt.subplots(1, 2, figsize=(11, 7))\n",
        "plt.subplot(121)\n",
        "plt.bar(xvalues, comparison['accuracy'], color = 'r', edgecolor = 'k', linewidth = 2)\n",
        "plt.xticks(xvalues, comparison['model'], rotation = 90, fontsize = 14)\n",
        "plt.ylim(ymin = 70, ymax = 85)\n",
        "plt.xlabel('model'); plt.ylabel('Accuracy (%)'); plt.title('Accuracy Comparison');\n",
        "\n",
        "plt.subplot(122)\n",
        "plt.bar(xvalues, comparison['error'], color = 'g', edgecolor = 'k', linewidth = 2)\n",
        "plt.xticks(xvalues, comparison['model'], rotation = 90, fontsize = 14)\n",
        "plt.ylim(ymin = 0.15, ymax = 0.35)\n",
        "plt.xlabel('model'); plt.ylabel('Error (deg)'); plt.title('Error Comparison');\n",
        "plt.show();"
      ],
      "metadata": {
        "colab": {
          "base_uri": "https://localhost:8080/",
          "height": 558
        },
        "id": "s6XpVpqWgzqa",
        "outputId": "440d29cb-5ef4-4470-a206-7285f07747d0"
      },
      "execution_count": 42,
      "outputs": [
        {
          "output_type": "display_data",
          "data": {
            "image/png": "[encoded data removed]",
            "text/plain": [
              "<Figure size 792x504 with 2 Axes>"
            ]
          },
          "metadata": {
            "needs_background": "light"
          }
        }
      ]
    },
    {
      "cell_type": "markdown",
      "source": [
        "Therefore, the base model of the decision tree has the worst results and the entropy model is better than it. The base model of random forest gave the same result as random search cv, however, we performed two grid searches and they both outperformed the base model by at least 2%. Among the error results, we see the best results for grid search and the worst results for the base model of decision trees."
      ],
      "metadata": {
        "id": "TxCYVbm92chH"
      }
    }
  ],
  "metadata": {
    "colab": {
      "collapsed_sections": [],
      "name": "Diabetes_set_(Decision_tree).ipynb",
      "provenance": []
    },
    "kernelspec": {
      "display_name": "Python 3 (ipykernel)",
      "language": "python",
      "name": "python3"
    },
    "language_info": {
      "codemirror_mode": {
        "name": "ipython",
        "version": 3
      },
      "file_extension": ".py",
      "mimetype": "text/x-python",
      "name": "python",
      "nbconvert_exporter": "python",
      "pygments_lexer": "ipython3",
      "version": "3.9.7"
    }
  },
  "nbformat": 4,
  "nbformat_minor": 0
}