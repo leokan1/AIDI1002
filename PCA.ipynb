{
  "cells": [
    {
      "cell_type": "code",
      "execution_count": 1,
      "id": "a9b54d2e",
      "metadata": {
        "id": "a9b54d2e"
      },
      "outputs": [],
      "source": [
        "import numpy as np\n",
        "import pandas as pd\n",
        "from pandas import read_csv\n",
        "import seaborn as sns\n",
        "import matplotlib.pyplot as plt\n",
        "\n",
        "from sklearn.datasets import load_iris"
      ]
    },
    {
      "cell_type": "code",
      "execution_count": 2,
      "id": "d8044b7c",
      "metadata": {
        "id": "d8044b7c"
      },
      "outputs": [],
      "source": [
        "df = sns.load_dataset(\"iris\")"
      ]
    },
    {
      "cell_type": "code",
      "execution_count": 3,
      "id": "67777844",
      "metadata": {
        "colab": {
          "base_uri": "https://localhost:8080/",
          "height": 206
        },
        "id": "67777844",
        "outputId": "5ef98280-f069-410b-a815-c0ef72d2e1fc"
      },
      "outputs": [
        {
          "output_type": "execute_result",
          "data": {
            "text/plain": [
              "   sepal_length  sepal_width  petal_length  petal_width species\n",
              "0           5.1          3.5           1.4          0.2  setosa\n",
              "1           4.9          3.0           1.4          0.2  setosa\n",
              "2           4.7          3.2           1.3          0.2  setosa\n",
              "3           4.6          3.1           1.5          0.2  setosa\n",
              "4           5.0          3.6           1.4          0.2  setosa"
            ],
            "text/html": [
              "\n",
              "  <div id=\"df-d1bab5bf-0c76-4cee-81c2-a708e441af9a\">\n",
              "    <div class=\"colab-df-container\">\n",
              "      <div>\n",
              "<style scoped>\n",
              "    .dataframe tbody tr th:only-of-type {\n",
              "        vertical-align: middle;\n",
              "    }\n",
              "\n",
              "    .dataframe tbody tr th {\n",
              "        vertical-align: top;\n",
              "    }\n",
              "\n",
              "    .dataframe thead th {\n",
              "        text-align: right;\n",
              "    }\n",
              "</style>\n",
              "<table border=\"1\" class=\"dataframe\">\n",
              "  <thead>\n",
              "    <tr style=\"text-align: right;\">\n",
              "      <th></th>\n",
              "      <th>sepal_length</th>\n",
              "      <th>sepal_width</th>\n",
              "      <th>petal_length</th>\n",
              "      <th>petal_width</th>\n",
              "      <th>species</th>\n",
              "    </tr>\n",
              "  </thead>\n",
              "  <tbody>\n",
              "    <tr>\n",
              "      <th>0</th>\n",
              "      <td>5.1</td>\n",
              "      <td>3.5</td>\n",
              "      <td>1.4</td>\n",
              "      <td>0.2</td>\n",
              "      <td>setosa</td>\n",
              "    </tr>\n",
              "    <tr>\n",
              "      <th>1</th>\n",
              "      <td>4.9</td>\n",
              "      <td>3.0</td>\n",
              "      <td>1.4</td>\n",
              "      <td>0.2</td>\n",
              "      <td>setosa</td>\n",
              "    </tr>\n",
              "    <tr>\n",
              "      <th>2</th>\n",
              "      <td>4.7</td>\n",
              "      <td>3.2</td>\n",
              "      <td>1.3</td>\n",
              "      <td>0.2</td>\n",
              "      <td>setosa</td>\n",
              "    </tr>\n",
              "    <tr>\n",
              "      <th>3</th>\n",
              "      <td>4.6</td>\n",
              "      <td>3.1</td>\n",
              "      <td>1.5</td>\n",
              "      <td>0.2</td>\n",
              "      <td>setosa</td>\n",
              "    </tr>\n",
              "    <tr>\n",
              "      <th>4</th>\n",
              "      <td>5.0</td>\n",
              "      <td>3.6</td>\n",
              "      <td>1.4</td>\n",
              "      <td>0.2</td>\n",
              "      <td>setosa</td>\n",
              "    </tr>\n",
              "  </tbody>\n",
              "</table>\n",
              "</div>\n",
              "      <button class=\"colab-df-convert\" onclick=\"convertToInteractive('df-d1bab5bf-0c76-4cee-81c2-a708e441af9a')\"\n",
              "              title=\"Convert this dataframe to an interactive table.\"\n",
              "              style=\"display:none;\">\n",
              "        \n",
              "  <svg xmlns=\"http://www.w3.org/2000/svg\" height=\"24px\"viewBox=\"0 0 24 24\"\n",
              "       width=\"24px\">\n",
              "    <path d=\"M0 0h24v24H0V0z\" fill=\"none\"/>\n",
              "    <path d=\"M18.56 5.44l.94 2.06.94-2.06 2.06-.94-2.06-.94-.94-2.06-.94 2.06-2.06.94zm-11 1L8.5 8.5l.94-2.06 2.06-.94-2.06-.94L8.5 2.5l-.94 2.06-2.06.94zm10 10l.94 2.06.94-2.06 2.06-.94-2.06-.94-.94-2.06-.94 2.06-2.06.94z\"/><path d=\"M17.41 7.96l-1.37-1.37c-.4-.4-.92-.59-1.43-.59-.52 0-1.04.2-1.43.59L10.3 9.45l-7.72 7.72c-.78.78-.78 2.05 0 2.83L4 21.41c.39.39.9.59 1.41.59.51 0 1.02-.2 1.41-.59l7.78-7.78 2.81-2.81c.8-.78.8-2.07 0-2.86zM5.41 20L4 18.59l7.72-7.72 1.47 1.35L5.41 20z\"/>\n",
              "  </svg>\n",
              "      </button>\n",
              "      \n",
              "  <style>\n",
              "    .colab-df-container {\n",
              "      display:flex;\n",
              "      flex-wrap:wrap;\n",
              "      gap: 12px;\n",
              "    }\n",
              "\n",
              "    .colab-df-convert {\n",
              "      background-color: #E8F0FE;\n",
              "      border: none;\n",
              "      border-radius: 50%;\n",
              "      cursor: pointer;\n",
              "      display: none;\n",
              "      fill: #1967D2;\n",
              "      height: 32px;\n",
              "      padding: 0 0 0 0;\n",
              "      width: 32px;\n",
              "    }\n",
              "\n",
              "    .colab-df-convert:hover {\n",
              "      background-color: #E2EBFA;\n",
              "      box-shadow: 0px 1px 2px rgba(60, 64, 67, 0.3), 0px 1px 3px 1px rgba(60, 64, 67, 0.15);\n",
              "      fill: #174EA6;\n",
              "    }\n",
              "\n",
              "    [theme=dark] .colab-df-convert {\n",
              "      background-color: #3B4455;\n",
              "      fill: #D2E3FC;\n",
              "    }\n",
              "\n",
              "    [theme=dark] .colab-df-convert:hover {\n",
              "      background-color: #434B5C;\n",
              "      box-shadow: 0px 1px 3px 1px rgba(0, 0, 0, 0.15);\n",
              "      filter: drop-shadow(0px 1px 2px rgba(0, 0, 0, 0.3));\n",
              "      fill: #FFFFFF;\n",
              "    }\n",
              "  </style>\n",
              "\n",
              "      <script>\n",
              "        const buttonEl =\n",
              "          document.querySelector('#df-d1bab5bf-0c76-4cee-81c2-a708e441af9a button.colab-df-convert');\n",
              "        buttonEl.style.display =\n",
              "          google.colab.kernel.accessAllowed ? 'block' : 'none';\n",
              "\n",
              "        async function convertToInteractive(key) {\n",
              "          const element = document.querySelector('#df-d1bab5bf-0c76-4cee-81c2-a708e441af9a');\n",
              "          const dataTable =\n",
              "            await google.colab.kernel.invokeFunction('convertToInteractive',\n",
              "                                                     [key], {});\n",
              "          if (!dataTable) return;\n",
              "\n",
              "          const docLinkHtml = 'Like what you see? Visit the ' +\n",
              "            '<a target=\"_blank\" href=https://colab.research.google.com/notebooks/data_table.ipynb>data table notebook</a>'\n",
              "            + ' to learn more about interactive tables.';\n",
              "          element.innerHTML = '';\n",
              "          dataTable['output_type'] = 'display_data';\n",
              "          await google.colab.output.renderOutput(dataTable, element);\n",
              "          const docLink = document.createElement('div');\n",
              "          docLink.innerHTML = docLinkHtml;\n",
              "          element.appendChild(docLink);\n",
              "        }\n",
              "      </script>\n",
              "    </div>\n",
              "  </div>\n",
              "  "
            ]
          },
          "metadata": {},
          "execution_count": 3
        }
      ],
      "source": [
        "df.head()"
      ]
    },
    {
      "cell_type": "code",
      "execution_count": 4,
      "id": "a3075828",
      "metadata": {
        "id": "a3075828",
        "colab": {
          "base_uri": "https://localhost:8080/",
          "height": 124
        },
        "outputId": "7202cb11-e557-49cd-dfa4-72e09f657a04"
      },
      "outputs": [
        {
          "output_type": "execute_result",
          "data": {
            "text/plain": [
              "'Step 3: Apply PCA\\nIn iris dataset, the original feature space has 4 dimensions, known as p dimensions. PCA will project the data onto a smaller subspace of k dimensions (where k < p) while retaining as much of the variation as possible. These k dimensions are known as the principal components.\\nBy applying PCA, we lose some of the variance (i.e., information). \\nBy reducing the dimensionality of the data, PCA will reduce the size of the data.\\n\\nThis will improve the performance of machine learning algorithms.\\nThis will reduce hardware requirements and speed up the training process.\\nThis will allow us to easily understand the underlying structure of the data.\\nThis will allow us to visualize the data on a 2d or 3d plot (if we choose the number of principal components as 2 or 3).'"
            ],
            "application/vnd.google.colaboratory.intrinsic+json": {
              "type": "string"
            }
          },
          "metadata": {},
          "execution_count": 4
        }
      ],
      "source": [
        "\"\"\"Step 3: Apply PCA\n",
        "In iris dataset, the original feature space has 4 dimensions, known as p dimensions. PCA will project the data onto a smaller subspace of k dimensions (where k < p) while retaining as much of the variation as possible. These k dimensions are known as the principal components.\n",
        "By applying PCA, we lose some of the variance (i.e., information). \n",
        "By reducing the dimensionality of the data, PCA will reduce the size of the data.\n",
        "\n",
        "This will improve the performance of machine learning algorithms.\n",
        "This will reduce hardware requirements and speed up the training process.\n",
        "This will allow us to easily understand the underlying structure of the data.\n",
        "This will allow us to visualize the data on a 2d or 3d plot (if we choose the number of principal components as 2 or 3).\"\"\""
      ]
    },
    {
      "cell_type": "code",
      "execution_count": 5,
      "id": "cba913f8",
      "metadata": {
        "colab": {
          "base_uri": "https://localhost:8080/"
        },
        "id": "cba913f8",
        "outputId": "4e9e454a-a301-4f10-f203-fa9c5829f210"
      },
      "outputs": [
        {
          "output_type": "execute_result",
          "data": {
            "text/plain": [
              "((150, 4), (150,))"
            ]
          },
          "metadata": {},
          "execution_count": 5
        }
      ],
      "source": [
        "X = df.iloc[:,:-1]\n",
        "y = df.iloc[:,-1]\n",
        "X.shape,y.shape\n",
        "\n",
        "\n",
        "#\"\"The feature matrix contains the values of all 4 features in the dataset.It  is a 150x4 two-dimensional Numpy array. It is stored in the X variable.\"\"\""
      ]
    },
    {
      "cell_type": "code",
      "execution_count": 6,
      "id": "cb0beb70",
      "metadata": {
        "id": "cb0beb70"
      },
      "outputs": [],
      "source": [
        "\n",
        "\"\"\"Standardize the features if necessary\n",
        "You can see that the values of the dataset are not equally scaled. \n",
        "So, we need to apply z-score standardization to get all features into the same scale. \n",
        "For this, we use Scikit-learn StandardScaler() class which is in the preprocessing submodule in Scikit-learn.\"\"\"\n",
        "\n",
        "\n",
        "from sklearn.preprocessing import StandardScaler\n",
        "\n",
        "#create the object \n",
        "sc = StandardScaler()\n",
        "\n",
        "#calculate the mean and standard deviation\n",
        "sc.fit(X)\n",
        "\n",
        "#transform the values \n",
        "X_scaled = sc.transform(X)"
      ]
    },
    {
      "cell_type": "code",
      "execution_count": 7,
      "id": "1602dabf",
      "metadata": {
        "id": "1602dabf",
        "colab": {
          "base_uri": "https://localhost:8080/",
          "height": 89
        },
        "outputId": "cfdd787f-f7fd-4bdf-f59c-5f277a4e04ad"
      },
      "outputs": [
        {
          "output_type": "execute_result",
          "data": {
            "text/plain": [
              "'First, we import the StandardScaler() class. Then, we create an object of that class and store it in the variable scaler. \\nThen we use the scaler object’s fit() method with the input X (feature matrix). \\nThis will calculate the mean and standard deviation for each variable in the dataset.\\nFinally, we do the transformation with the transform() method of the scaler object.\\nThe transformed (scaled) values of X are stored in the variable X_scaled which is also a 150x4 two-dimensional Numpy array.'"
            ],
            "application/vnd.google.colaboratory.intrinsic+json": {
              "type": "string"
            }
          },
          "metadata": {},
          "execution_count": 7
        }
      ],
      "source": [
        "\"\"\"First, we import the StandardScaler() class. Then, we create an object of that class and store it in the variable scaler. \n",
        "Then we use the scaler object’s fit() method with the input X (feature matrix). \n",
        "This will calculate the mean and standard deviation for each variable in the dataset.\n",
        "Finally, we do the transformation with the transform() method of the scaler object.\n",
        "The transformed (scaled) values of X are stored in the variable X_scaled which is also a 150x4 two-dimensional Numpy array.\"\"\""
      ]
    },
    {
      "cell_type": "code",
      "execution_count": 8,
      "id": "3ac54a4a",
      "metadata": {
        "id": "3ac54a4a"
      },
      "outputs": [],
      "source": [
        "\"\"\"3.c: Choose the right number of dimensions (k)\n",
        "Now, we are ready to apply PCA for our dataset. Before that, we need to choose the right number of dimensions (i.e., the right number of principal components — k). \n",
        "For this, we apply PCA with the original number of dimensions (i.e., 4) and see how well PCA captures the variance of the data.\"\"\"\n",
        "\n",
        "from sklearn.decomposition import PCA\n",
        "pca_30 = PCA(n_components = 4, random_state=0)\n",
        "pca_30.fit(X_scaled)\n",
        "X_pca_30 = pca_30.transform(X_scaled)\n"
      ]
    },
    {
      "cell_type": "code",
      "execution_count": 9,
      "id": "1cac43ac",
      "metadata": {
        "id": "1cac43ac",
        "outputId": "cc9e8fbc-231b-4382-cd3a-3a9e0b3dc1b6",
        "colab": {
          "base_uri": "https://localhost:8080/",
          "height": 142
        }
      },
      "outputs": [
        {
          "output_type": "execute_result",
          "data": {
            "text/plain": [
              "'In Scikit-learn, PCA is applied using the PCA() class. It is in the decomposition submodule in Scikit-learn. The most important hyperparameter in that class is n_components. It can take one of the following types of values.\\n\\nNone: This is the default value. If we do not specify the value, all components are kept.\\n\\nIn our example, this exactly the same as n_components=4.\\nint: If this is a positive integer like 1, 2, 30, 100, etc, the algorithm will return that number of principal components.\\nThe integer value should be less than or equal to the original number of features in the dataset.\\n\\n\\nfloat: If 0 < n_components < 1, PCA will select the number of components such that the amount of variance that needs to be explained. \\nFor example, if n_components=0.95, the algorithm will select the number of components while preserving 95% of the variability in the data.\\n\\n\\n\\nWhen applying PCA, all you need to do is to create an instance of the PCA() class and fit it using the scaled values of X. Then apply the transformation. \\nThe variable X_pca_30 stores the transformed values of the principal components returned by the PCA() class. X_pca_30 is a 150x4 two-dimensional Numpy array.\\n\\n\\n\\n'"
            ],
            "application/vnd.google.colaboratory.intrinsic+json": {
              "type": "string"
            }
          },
          "metadata": {},
          "execution_count": 9
        }
      ],
      "source": [
        "\"\"\"In Scikit-learn, PCA is applied using the PCA() class. It is in the decomposition submodule in Scikit-learn. The most important hyperparameter in that class is n_components. It can take one of the following types of values.\n",
        "\n",
        "None: This is the default value. If we do not specify the value, all components are kept.\n",
        "\n",
        "In our example, this exactly the same as n_components=4.\n",
        "int: If this is a positive integer like 1, 2, 30, 100, etc, the algorithm will return that number of principal components.\n",
        "The integer value should be less than or equal to the original number of features in the dataset.\n",
        "\n",
        "\n",
        "float: If 0 < n_components < 1, PCA will select the number of components such that the amount of variance that needs to be explained. \n",
        "For example, if n_components=0.95, the algorithm will select the number of components while preserving 95% of the variability in the data.\n",
        "\n",
        "\n",
        "\n",
        "When applying PCA, all you need to do is to create an instance of the PCA() class and fit it using the scaled values of X. Then apply the transformation. \n",
        "The variable X_pca_30 stores the transformed values of the principal components returned by the PCA() class. X_pca_30 is a 150x4 two-dimensional Numpy array.\n",
        "\n",
        "\n",
        "\n",
        "\"\"\""
      ]
    },
    {
      "cell_type": "code",
      "execution_count": 10,
      "id": "3bc679d3",
      "metadata": {
        "id": "3bc679d3",
        "outputId": "3012f6c6-1839-43d5-a914-f6d05a101222",
        "colab": {
          "base_uri": "https://localhost:8080/"
        }
      },
      "outputs": [
        {
          "output_type": "stream",
          "name": "stdout",
          "text": [
            "Variance explained by all the 4 principal component =  99.99999999999999\n"
          ]
        }
      ],
      "source": [
        "print(\"Variance explained by all the 4 principal component = \", sum(pca_30.explained_variance_ratio_*100))\n",
        "\n",
        "\n",
        "#We have set n_components=4. The original number of dimensions in our dataset is also 4. We have not reduced the dimensionality at all (we’ve just transformed the data). \n",
        "#Therefore, the percentage of variance explained by 4 principal components should be 100%.\n",
        "\n"
      ]
    },
    {
      "cell_type": "code",
      "execution_count": 11,
      "id": "58ed8d57",
      "metadata": {
        "colab": {
          "base_uri": "https://localhost:8080/"
        },
        "id": "58ed8d57",
        "outputId": "5ab494b1-50c3-49fe-9dc7-ca04cc5a2253"
      },
      "outputs": [
        {
          "output_type": "execute_result",
          "data": {
            "text/plain": [
              "array([72.96244541, 22.85076179,  3.66892189,  0.51787091])"
            ]
          },
          "metadata": {},
          "execution_count": 11
        }
      ],
      "source": [
        "\"\"\"The explained_variance_ratio_ attribute of the PCA() class returns a one-dimensional numpy array\n",
        "which contains the values of the percentage of variance explained by each of the selected components.\"\"\"\n",
        "\n",
        "pca_30.explained_variance_ratio_*100"
      ]
    },
    {
      "cell_type": "code",
      "execution_count": 12,
      "id": "eab42714",
      "metadata": {
        "colab": {
          "base_uri": "https://localhost:8080/",
          "height": 71
        },
        "id": "eab42714",
        "outputId": "08a3d8af-45f8-419e-cab0-b0887b80ee57"
      },
      "outputs": [
        {
          "output_type": "execute_result",
          "data": {
            "text/plain": [
              "'The first component alone captures about 72.96% of the variability in the dataset and the second component alone captures about 22.85% of the variability in the dataset and so on.\\nAlso, note that the values of the above array are sorted in descending order. \\nTaking the sum of the above array will return the total variance explained by each of the selected components.\\nIf we get the cumulative sum of the above array, we can see the following array.'"
            ],
            "application/vnd.google.colaboratory.intrinsic+json": {
              "type": "string"
            }
          },
          "metadata": {},
          "execution_count": 12
        }
      ],
      "source": [
        "\n",
        "np.cumsum(pca_30.explained_variance_ratio_*100)\n",
        "\n",
        "\"\"\"The first component alone captures about 72.96% of the variability in the dataset and the second component alone captures about 22.85% of the variability in the dataset and so on.\n",
        "Also, note that the values of the above array are sorted in descending order. \n",
        "Taking the sum of the above array will return the total variance explained by each of the selected components.\n",
        "If we get the cumulative sum of the above array, we can see the following array.\"\"\""
      ]
    },
    {
      "cell_type": "code",
      "execution_count": 13,
      "id": "71364c01",
      "metadata": {
        "colab": {
          "base_uri": "https://localhost:8080/",
          "height": 279
        },
        "id": "71364c01",
        "outputId": "2194223e-ba8f-4004-990a-06d324b5411a"
      },
      "outputs": [
        {
          "output_type": "display_data",
          "data": {
            "text/plain": [
              "<Figure size 432x288 with 1 Axes>"
            ],
            "image/png": "[encoded data removed]"
          },
          "metadata": {
            "needs_background": "light"
          }
        }
      ],
      "source": [
        "#create following plot\n",
        "\n",
        "plt.plot(np.cumsum(pca_30.explained_variance_ratio_))\n",
        "plt.xlabel('Number of components')\n",
        "plt.ylabel('Explained variance')\n",
        "plt.savefig('elbow_plot.png', dpi= 100)"
      ]
    },
    {
      "cell_type": "code",
      "execution_count": 14,
      "id": "a93e133b",
      "metadata": {
        "colab": {
          "base_uri": "https://localhost:8080/"
        },
        "id": "a93e133b",
        "outputId": "d0040af6-6403-4cee-b575-5460832542d5"
      },
      "outputs": [
        {
          "output_type": "stream",
          "name": "stdout",
          "text": [
            "variance explained by first PC= 72.96244541329986\n",
            "variance explained by second PC= 95.81320720000164\n",
            "variance explained by third PC= 99.48212908928451\n"
          ]
        }
      ],
      "source": [
        "\"\"\"You can see that the first 2 principal components keep about 95.8% of the variability in the dataset while reducing 2 (4-2) features in the dataset. That’s great. The remaining 2 features only contain less than 5% of the variability in data.\"\"\"\n",
        "\n",
        "print(\"variance explained by first PC=\", np.cumsum(pca_30.explained_variance_ratio_*100)[0])\n",
        "print(\"variance explained by second PC=\", np.cumsum(pca_30.explained_variance_ratio_*100)[1])\n",
        "print(\"variance explained by third PC=\", np.cumsum(pca_30.explained_variance_ratio_*100)[2])"
      ]
    },
    {
      "cell_type": "code",
      "execution_count": 15,
      "id": "eb766d48",
      "metadata": {
        "id": "eb766d48",
        "colab": {
          "base_uri": "https://localhost:8080/",
          "height": 53
        },
        "outputId": "fbca7f02-0db7-4f50-d164-55858f931348"
      },
      "outputs": [
        {
          "output_type": "execute_result",
          "data": {
            "text/plain": [
              "'You can see that the first 2 principal components keep about 95.8% of the variability in the dataset while reducing 2 (4-2) features in the dataset. That’s great.\\nThe remaining 2 features only contain less than 5% of the variability in data'"
            ],
            "application/vnd.google.colaboratory.intrinsic+json": {
              "type": "string"
            }
          },
          "metadata": {},
          "execution_count": 15
        }
      ],
      "source": [
        "\"\"\"You can see that the first 2 principal components keep about 95.8% of the variability in the dataset while reducing 2 (4-2) features in the dataset. That’s great.\n",
        "The remaining 2 features only contain less than 5% of the variability in data\"\"\""
      ]
    },
    {
      "cell_type": "code",
      "source": [
        "y.unique()"
      ],
      "metadata": {
        "colab": {
          "base_uri": "https://localhost:8080/"
        },
        "id": "D7av_b0_XHX3",
        "outputId": "f44a54f9-0935-487e-c890-aade4218c3ee"
      },
      "id": "D7av_b0_XHX3",
      "execution_count": 16,
      "outputs": [
        {
          "output_type": "execute_result",
          "data": {
            "text/plain": [
              "array(['setosa', 'versicolor', 'virginica'], dtype=object)"
            ]
          },
          "metadata": {},
          "execution_count": 16
        }
      ]
    },
    {
      "cell_type": "code",
      "source": [
        "y = y.str.replace('setosa', '0')\n",
        "y = y.str.replace('versicolor', '1')\n",
        "y = y.str.replace('virginica', '2')"
      ],
      "metadata": {
        "id": "JWzpNZJkXhWf"
      },
      "id": "JWzpNZJkXhWf",
      "execution_count": 17,
      "outputs": []
    },
    {
      "cell_type": "code",
      "source": [
        "y.unique()"
      ],
      "metadata": {
        "colab": {
          "base_uri": "https://localhost:8080/"
        },
        "id": "8E7-L_JzXs6y",
        "outputId": "275dd0f5-3c6d-4bae-ea58-4c5dc86c5141"
      },
      "id": "8E7-L_JzXs6y",
      "execution_count": 18,
      "outputs": [
        {
          "output_type": "execute_result",
          "data": {
            "text/plain": [
              "array(['0', '1', '2'], dtype=object)"
            ]
          },
          "metadata": {},
          "execution_count": 18
        }
      ]
    },
    {
      "cell_type": "code",
      "execution_count": 19,
      "id": "55ac006f",
      "metadata": {
        "id": "55ac006f"
      },
      "outputs": [],
      "source": [
        "\"\"\"Let’s apply PCA to our dataset with n_components=0.95.\n",
        "This will select the number of components while preserving 95% of the variability in the data.\"\"\"\n",
        "\n",
        "from sklearn.decomposition import PCA\n",
        "pca_95 = PCA(n_components = 0.95, random_state=0)\n",
        "pca_95.fit(X_scaled)\n",
        "X_pca_95 = pca_95.transform(X_scaled)\n",
        "\n",
        "from sklearn.model_selection import train_test_split, cross_val_score\n",
        "#Create training and testing variables by splitting data into 80:20 train:test ratio\n",
        "X_train, X_test, y_train, y_test = train_test_split(X_pca_95, y, test_size=0.2, random_state=0)"
      ]
    },
    {
      "cell_type": "code",
      "execution_count": 20,
      "id": "03dd6066",
      "metadata": {
        "id": "03dd6066",
        "outputId": "7c7e732c-1b5e-4b64-a0e3-c67017f1eb47",
        "colab": {
          "base_uri": "https://localhost:8080/",
          "height": 71
        }
      },
      "outputs": [
        {
          "output_type": "execute_result",
          "data": {
            "text/plain": [
              "' create a pandas DataFrame using the values of all 4 principal components and add the label column of the original dataset.\\n    After executing the above code, the files will be saved in your current working directory. \\n    By using the new dataset, you can apply classification algorithms like Logistic Regression, Support Vector Machines and K-Nearest Neighbours to further analyze the data.\\n'"
            ],
            "application/vnd.google.colaboratory.intrinsic+json": {
              "type": "string"
            }
          },
          "metadata": {},
          "execution_count": 20
        }
      ],
      "source": [
        "''' create a pandas DataFrame using the values of all 4 principal components and add the label column of the original dataset.\n",
        "    After executing the above code, the files will be saved in your current working directory. \n",
        "    By using the new dataset, you can apply classification algorithms like Logistic Regression, Support Vector Machines and K-Nearest Neighbours to further analyze the data.\n",
        "'''"
      ]
    },
    {
      "cell_type": "code",
      "source": [
        "from sklearn.linear_model import LogisticRegression\n",
        "from sklearn.ensemble import RandomForestClassifier\n",
        "from sklearn.tree import DecisionTreeClassifier\n",
        "from sklearn.model_selection import GridSearchCV\n",
        "from sklearn.metrics import accuracy_score,classification_report, confusion_matrix, f1_score"
      ],
      "metadata": {
        "id": "6kaIqG2QMg4c"
      },
      "id": "6kaIqG2QMg4c",
      "execution_count": 21,
      "outputs": []
    },
    {
      "cell_type": "code",
      "source": [
        "log_reg = LogisticRegression(class_weight='balanced') # balanced the class, as the dataset is imbalanced \n",
        "log_reg.fit(X_train,y_train)\n",
        "pred_logr_base = log_reg.predict(X_test)\n",
        "print(classification_report(y_test,pred_logr_base))"
      ],
      "metadata": {
        "colab": {
          "base_uri": "https://localhost:8080/"
        },
        "id": "d6S1fkTnZR7l",
        "outputId": "020bf6a1-7dc9-4564-ac57-0b48fd840e29"
      },
      "id": "d6S1fkTnZR7l",
      "execution_count": 22,
      "outputs": [
        {
          "output_type": "stream",
          "name": "stdout",
          "text": [
            "              precision    recall  f1-score   support\n",
            "\n",
            "           0       1.00      1.00      1.00        11\n",
            "           1       0.92      0.92      0.92        13\n",
            "           2       0.83      0.83      0.83         6\n",
            "\n",
            "    accuracy                           0.93        30\n",
            "   macro avg       0.92      0.92      0.92        30\n",
            "weighted avg       0.93      0.93      0.93        30\n",
            "\n"
          ]
        }
      ]
    },
    {
      "cell_type": "code",
      "source": [
        "log_reg_2 = LogisticRegression()\n",
        "grid={\"C\":[0.001, 0.01, 0.1, 1, 10, 100, 1000], \"penalty\":[\"l1\",\"l2\"], \"class_weight\":[\"balanced\"]}# l2 ridge\n",
        "log_reg_cv=GridSearchCV(log_reg_2,grid,scoring=\"accuracy\",cv=5,n_jobs=-1, refit=True)\n",
        "log_reg_cv.fit(X_train,y_train)\n",
        "\n",
        "print(\"tuned best parameters: \",log_reg_cv.best_params_)\n",
        "print(\"accuracy :\",log_reg_cv.best_score_)"
      ],
      "metadata": {
        "colab": {
          "base_uri": "https://localhost:8080/"
        },
        "id": "Zeb5Gu2vMf7k",
        "outputId": "d9831d6a-17f5-4800-8053-e4e4fbd7e42c"
      },
      "id": "Zeb5Gu2vMf7k",
      "execution_count": 23,
      "outputs": [
        {
          "output_type": "stream",
          "name": "stdout",
          "text": [
            "tuned best parameters:  {'C': 1, 'class_weight': 'balanced', 'penalty': 'l2'}\n",
            "accuracy : 0.9\n"
          ]
        },
        {
          "output_type": "stream",
          "name": "stderr",
          "text": [
            "/usr/local/lib/python3.7/dist-packages/sklearn/model_selection/_validation.py:372: FitFailedWarning: \n",
            "35 fits failed out of a total of 70.\n",
            "The score on these train-test partitions for these parameters will be set to nan.\n",
            "If these failures are not expected, you can try to debug them by setting error_score='raise'.\n",
            "\n",
            "Below are more details about the failures:\n",
            "--------------------------------------------------------------------------------\n",
            "35 fits failed with the following error:\n",
            "Traceback (most recent call last):\n",
            "  File \"/usr/local/lib/python3.7/dist-packages/sklearn/model_selection/_validation.py\", line 680, in _fit_and_score\n",
            "    estimator.fit(X_train, y_train, **fit_params)\n",
            "  File \"/usr/local/lib/python3.7/dist-packages/sklearn/linear_model/_logistic.py\", line 1461, in fit\n",
            "    solver = _check_solver(self.solver, self.penalty, self.dual)\n",
            "  File \"/usr/local/lib/python3.7/dist-packages/sklearn/linear_model/_logistic.py\", line 449, in _check_solver\n",
            "    % (solver, penalty)\n",
            "ValueError: Solver lbfgs supports only 'l2' or 'none' penalties, got l1 penalty.\n",
            "\n",
            "  warnings.warn(some_fits_failed_message, FitFailedWarning)\n",
            "/usr/local/lib/python3.7/dist-packages/sklearn/model_selection/_search.py:972: UserWarning: One or more of the test scores are non-finite: [       nan 0.85              nan 0.86666667        nan 0.85833333\n",
            "        nan 0.9               nan 0.9               nan 0.9\n",
            "        nan 0.9       ]\n",
            "  category=UserWarning,\n"
          ]
        }
      ]
    },
    {
      "cell_type": "code",
      "source": [
        "# use the best parameters\n",
        "best_model_logr = LogisticRegression(C=log_reg_cv.best_params_['C'], penalty=log_reg_cv.best_params_['penalty'],class_weight='balanced')\n",
        "best_model_logr.fit(X_train, y_train)\n",
        "pred_logr = best_model_logr.predict(X_test)\n",
        "print(classification_report(y_test,pred_logr))"
      ],
      "metadata": {
        "colab": {
          "base_uri": "https://localhost:8080/"
        },
        "id": "7b8PLKczMogk",
        "outputId": "12ff6106-d12a-4b19-fcee-2eceb5ec62d4"
      },
      "id": "7b8PLKczMogk",
      "execution_count": 24,
      "outputs": [
        {
          "output_type": "stream",
          "name": "stdout",
          "text": [
            "              precision    recall  f1-score   support\n",
            "\n",
            "           0       1.00      1.00      1.00        11\n",
            "           1       0.92      0.92      0.92        13\n",
            "           2       0.83      0.83      0.83         6\n",
            "\n",
            "    accuracy                           0.93        30\n",
            "   macro avg       0.92      0.92      0.92        30\n",
            "weighted avg       0.93      0.93      0.93        30\n",
            "\n"
          ]
        }
      ]
    },
    {
      "cell_type": "code",
      "source": [
        "dt = DecisionTreeClassifier(criterion='entropy') \n",
        "dt.fit(X_train,y_train)\n",
        "pred_dt_base = dt.predict(X_test)\n",
        "print(classification_report(y_test,pred_dt_base))"
      ],
      "metadata": {
        "colab": {
          "base_uri": "https://localhost:8080/"
        },
        "id": "vXdqtqHadRYH",
        "outputId": "90e2277b-ce4c-40bf-ad6f-aca8534fff99"
      },
      "id": "vXdqtqHadRYH",
      "execution_count": 25,
      "outputs": [
        {
          "output_type": "stream",
          "name": "stdout",
          "text": [
            "              precision    recall  f1-score   support\n",
            "\n",
            "           0       1.00      1.00      1.00        11\n",
            "           1       0.92      0.92      0.92        13\n",
            "           2       0.83      0.83      0.83         6\n",
            "\n",
            "    accuracy                           0.93        30\n",
            "   macro avg       0.92      0.92      0.92        30\n",
            "weighted avg       0.93      0.93      0.93        30\n",
            "\n"
          ]
        }
      ]
    },
    {
      "cell_type": "code",
      "source": [
        "dt_2 = DecisionTreeClassifier()\n",
        "dt_grid={\"criterion\":[\"entropy\"], \"max_depth\":[5,10]}\n",
        "dt_cv=GridSearchCV(dt_2,dt_grid,scoring=\"accuracy\",cv=5,n_jobs=-1, refit=True)\n",
        "dt_cv.fit(X_train,y_train)\n",
        "\n",
        "print(\"tuned best parameters: \",dt_cv.best_params_)\n",
        "print(\"accuracy :\",dt_cv.best_score_)"
      ],
      "metadata": {
        "colab": {
          "base_uri": "https://localhost:8080/"
        },
        "id": "b7sLsSVldS8o",
        "outputId": "684c9f89-e227-46db-cec4-d03249d643c0"
      },
      "id": "b7sLsSVldS8o",
      "execution_count": 26,
      "outputs": [
        {
          "output_type": "stream",
          "name": "stdout",
          "text": [
            "tuned best parameters:  {'criterion': 'entropy', 'max_depth': 10}\n",
            "accuracy : 0.875\n"
          ]
        }
      ]
    },
    {
      "cell_type": "code",
      "source": [
        "# use the best parameters\n",
        "best_model_dt = DecisionTreeClassifier(max_depth=dt_cv.best_params_['max_depth'],criterion='entropy')\n",
        "best_model_dt.fit(X_train, y_train)\n",
        "pred_dt = best_model_dt.predict(X_test)\n",
        "print(classification_report(y_test,pred_dt))"
      ],
      "metadata": {
        "colab": {
          "base_uri": "https://localhost:8080/"
        },
        "id": "h4V2dADYdUk_",
        "outputId": "af1d8977-8b52-4879-b968-0883b5f37727"
      },
      "id": "h4V2dADYdUk_",
      "execution_count": 27,
      "outputs": [
        {
          "output_type": "stream",
          "name": "stdout",
          "text": [
            "              precision    recall  f1-score   support\n",
            "\n",
            "           0       1.00      1.00      1.00        11\n",
            "           1       1.00      0.92      0.96        13\n",
            "           2       0.86      1.00      0.92         6\n",
            "\n",
            "    accuracy                           0.97        30\n",
            "   macro avg       0.95      0.97      0.96        30\n",
            "weighted avg       0.97      0.97      0.97        30\n",
            "\n"
          ]
        }
      ]
    },
    {
      "cell_type": "code",
      "source": [
        "rfc = RandomForestClassifier(criterion='entropy') \n",
        "rfc.fit(X_train,y_train)\n",
        "pred_rfc_base = rfc.predict(X_test)\n",
        "print(classification_report(y_test,pred_rfc_base))"
      ],
      "metadata": {
        "colab": {
          "base_uri": "https://localhost:8080/"
        },
        "id": "k3hlccf8aF0Q",
        "outputId": "7f9e55fa-f542-41e6-a2f1-a97f6c2ff83e"
      },
      "id": "k3hlccf8aF0Q",
      "execution_count": 28,
      "outputs": [
        {
          "output_type": "stream",
          "name": "stdout",
          "text": [
            "              precision    recall  f1-score   support\n",
            "\n",
            "           0       1.00      1.00      1.00        11\n",
            "           1       0.92      0.85      0.88        13\n",
            "           2       0.71      0.83      0.77         6\n",
            "\n",
            "    accuracy                           0.90        30\n",
            "   macro avg       0.88      0.89      0.88        30\n",
            "weighted avg       0.91      0.90      0.90        30\n",
            "\n"
          ]
        }
      ]
    },
    {
      "cell_type": "code",
      "execution_count": 29,
      "id": "cc88425e",
      "metadata": {
        "id": "cc88425e",
        "colab": {
          "base_uri": "https://localhost:8080/"
        },
        "outputId": "29841cf1-e262-4950-d3df-5429ef3c8ddf"
      },
      "outputs": [
        {
          "output_type": "stream",
          "name": "stdout",
          "text": [
            "tuned best parameters:  {'criterion': 'entropy', 'max_depth': 5, 'n_estimators': 50}\n",
            "accuracy : 0.8916666666666666\n"
          ]
        }
      ],
      "source": [
        "rfc_2 = RandomForestClassifier()\n",
        "rfc_grid={\"n_estimators\":[10, 50, 100], \"criterion\":[\"entropy\"], \"max_depth\":[5,10]}# l2 ridge\n",
        "rfc_cv=GridSearchCV(rfc_2,rfc_grid,scoring=\"accuracy\",cv=5,n_jobs=-1, refit=True)\n",
        "rfc_cv.fit(X_train,y_train)\n",
        "\n",
        "print(\"tuned best parameters: \",rfc_cv.best_params_)\n",
        "print(\"accuracy :\",rfc_cv.best_score_)"
      ]
    },
    {
      "cell_type": "code",
      "source": [
        "# use the best parameters\n",
        "best_model_rfc = RandomForestClassifier(n_estimators=rfc_cv.best_params_['n_estimators'],max_depth=rfc_cv.best_params_['max_depth'],criterion='entropy')\n",
        "best_model_rfc.fit(X_train, y_train)\n",
        "pred_rfc = best_model_rfc.predict(X_test)\n",
        "print(classification_report(y_test,pred_rfc))"
      ],
      "metadata": {
        "colab": {
          "base_uri": "https://localhost:8080/"
        },
        "id": "P6uDQy--M4iZ",
        "outputId": "b6b3f138-9996-44dd-90a3-7cf8cc39b686"
      },
      "id": "P6uDQy--M4iZ",
      "execution_count": 30,
      "outputs": [
        {
          "output_type": "stream",
          "name": "stdout",
          "text": [
            "              precision    recall  f1-score   support\n",
            "\n",
            "           0       1.00      1.00      1.00        11\n",
            "           1       0.85      0.85      0.85        13\n",
            "           2       0.67      0.67      0.67         6\n",
            "\n",
            "    accuracy                           0.87        30\n",
            "   macro avg       0.84      0.84      0.84        30\n",
            "weighted avg       0.87      0.87      0.87        30\n",
            "\n"
          ]
        }
      ]
    },
    {
      "cell_type": "code",
      "source": [
        "# checking which are the most important features\n",
        "feature_importance = rfc.fit(X_train, y_train).feature_importances_\n",
        "\n",
        "# Make importances relative to max importance.\n",
        "sorted_idx = np.argsort(feature_importance)\n",
        "pos = np.arange(sorted_idx.shape[0]) + .5\n",
        "plt.barh(pos, feature_importance[sorted_idx], align='center')\n",
        "plt.yticks(pos, df.columns[sorted_idx])\n",
        "plt.title('Feature Importance')\n",
        "plt.show()"
      ],
      "metadata": {
        "colab": {
          "base_uri": "https://localhost:8080/",
          "height": 281
        },
        "id": "psDOqJCtFeqg",
        "outputId": "6de4c227-6906-4438-862f-beeba4caad3c"
      },
      "id": "psDOqJCtFeqg",
      "execution_count": 31,
      "outputs": [
        {
          "output_type": "display_data",
          "data": {
            "text/plain": [
              "<Figure size 432x288 with 1 Axes>"
            ],
            "image/png": "[encoded data removed]"
          },
          "metadata": {
            "needs_background": "light"
          }
        }
      ]
    },
    {
      "cell_type": "markdown",
      "source": [
        "We can see that sepal_length is the most important feature for random forest in iris data, about 80%"
      ],
      "metadata": {
        "id": "ANWvP0TLV8cc"
      },
      "id": "ANWvP0TLV8cc"
    },
    {
      "cell_type": "code",
      "source": [
        "all_results = {}\n",
        "all_results['logistic'] = accuracy_score(y_test, pred_logr_base)\n",
        "all_results['logistic_CV'] = accuracy_score(y_test, pred_logr)\n",
        "all_results['Decision_tree'] = accuracy_score(y_test, pred_dt_base)\n",
        "all_results['Decision_tree_CV'] = accuracy_score(y_test, pred_dt)\n",
        "all_results['Random_forest'] = accuracy_score(y_test, pred_rfc_base)\n",
        "all_results['Random_forest_CV'] = accuracy_score(y_test, pred_rfc)"
      ],
      "metadata": {
        "id": "bfV-oYNeZpL_"
      },
      "id": "bfV-oYNeZpL_",
      "execution_count": 32,
      "outputs": []
    },
    {
      "cell_type": "code",
      "source": [
        "models = list(all_results.keys())\n",
        "accuracy = list(all_results.values())\n",
        "\n",
        "fig = plt.figure(figsize = (15, 7))\n",
        "\n",
        "# creating the bar plot\n",
        "plt.bar(models, accuracy, color ='maroon',\n",
        "\t\twidth = 0.4)\n",
        "\n",
        "plt.ylim(0.85, 1)\n",
        "plt.xlabel(\"Models\")\n",
        "plt.ylabel(\"Accuracy\")\n",
        "plt.title(\"Compare all model accuracy\")\n",
        "plt.show()"
      ],
      "metadata": {
        "colab": {
          "base_uri": "https://localhost:8080/",
          "height": 459
        },
        "id": "IrGvtabTaglP",
        "outputId": "801faff4-f5c3-4233-ae2e-c2342048e6be"
      },
      "id": "IrGvtabTaglP",
      "execution_count": 33,
      "outputs": [
        {
          "output_type": "display_data",
          "data": {
            "text/plain": [
              "<Figure size 1080x504 with 1 Axes>"
            ],
            "image/png": "[encoded data removed]"
          },
          "metadata": {
            "needs_background": "light"
          }
        }
      ]
    },
    {
      "cell_type": "markdown",
      "source": [
        "Decision tree with grid search has 97%, it is the best model for iris data.\n",
        "\n",
        "So we decide to use decision tree to predict new data."
      ],
      "metadata": {
        "id": "osxK4hf9UZi5"
      },
      "id": "osxK4hf9UZi5"
    },
    {
      "cell_type": "markdown",
      "source": [
        "y = y.str.replace('setosa', '0')\n",
        "\n",
        "y = y.str.replace('versicolor', '1')\n",
        "\n",
        "y = y.str.replace('virginica', '2')"
      ],
      "metadata": {
        "id": "0mOc1J6qbrMM"
      },
      "id": "0mOc1J6qbrMM"
    },
    {
      "cell_type": "code",
      "source": [
        "def predict_result(result):\n",
        "  print(result)\n",
        "  if result == 0:\n",
        "    return \"It is setosa\"\n",
        "  elif result == 1:\n",
        "    return \"It is versicolor\"\n",
        "  else:\n",
        "    return \"It is virginica\""
      ],
      "metadata": {
        "id": "kuI07qTsbm6m"
      },
      "id": "kuI07qTsbm6m",
      "execution_count": 34,
      "outputs": []
    },
    {
      "cell_type": "code",
      "source": [
        "import random\n",
        "rand_int = random.randint(0,150)\n",
        "my_data = X_pca_95[rand_int]\n",
        "my_pred = best_model_dt.predict([my_data])\n",
        "predict_result(my_pred)"
      ],
      "metadata": {
        "colab": {
          "base_uri": "https://localhost:8080/",
          "height": 53
        },
        "id": "LvhyTE_dUTYP",
        "outputId": "b847cc2e-88da-4ba7-9130-f0f57f24ead1"
      },
      "id": "LvhyTE_dUTYP",
      "execution_count": 35,
      "outputs": [
        {
          "output_type": "stream",
          "name": "stdout",
          "text": [
            "['0']\n"
          ]
        },
        {
          "output_type": "execute_result",
          "data": {
            "text/plain": [
              "'It is virginica'"
            ],
            "application/vnd.google.colaboratory.intrinsic+json": {
              "type": "string"
            }
          },
          "metadata": {},
          "execution_count": 35
        }
      ]
    },
    {
      "cell_type": "code",
      "source": [
        "print(f\"I came of my_data = {X_pca_95[rand_int]}, the prediction is {predict_result(my_pred)}\")"
      ],
      "metadata": {
        "colab": {
          "base_uri": "https://localhost:8080/"
        },
        "id": "aRilQEJQUU5a",
        "outputId": "9ba1e2cc-31dd-4419-cb0c-e173ca9e7d45"
      },
      "id": "aRilQEJQUU5a",
      "execution_count": 36,
      "outputs": [
        {
          "output_type": "stream",
          "name": "stdout",
          "text": [
            "['0']\n",
            "I came of my_data = [-2.44402884  0.0476442 ], the prediction is It is virginica\n"
          ]
        }
      ]
    },
    {
      "cell_type": "code",
      "source": [
        ""
      ],
      "metadata": {
        "id": "2uF12ybZcvlJ"
      },
      "id": "2uF12ybZcvlJ",
      "execution_count": 36,
      "outputs": []
    }
  ],
  "metadata": {
    "kernelspec": {
      "display_name": "Python 3 (ipykernel)",
      "language": "python",
      "name": "python3"
    },
    "language_info": {
      "codemirror_mode": {
        "name": "ipython",
        "version": 3
      },
      "file_extension": ".py",
      "mimetype": "text/x-python",
      "name": "python",
      "nbconvert_exporter": "python",
      "pygments_lexer": "ipython3",
      "version": "3.9.7"
    },
    "colab": {
      "name": "1002_pca.ipynb",
      "provenance": [],
      "collapsed_sections": []
    }
  },
  "nbformat": 4,
  "nbformat_minor": 5
}